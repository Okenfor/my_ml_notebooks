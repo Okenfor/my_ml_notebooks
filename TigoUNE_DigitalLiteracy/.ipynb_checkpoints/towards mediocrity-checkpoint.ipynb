{
 "cells": [
  {
   "cell_type": "code",
   "execution_count": 2,
   "metadata": {},
   "outputs": [
    {
     "data": {
      "text/html": [
       "\n",
       "    <div class=\"bk-root\">\n",
       "        <a href=\"https://bokeh.pydata.org\" target=\"_blank\" class=\"bk-logo bk-logo-small bk-logo-notebook\"></a>\n",
       "        <span id=\"7958ad05-ff14-45d0-8c96-f1b2597addc4\">Loading BokehJS ...</span>\n",
       "    </div>"
      ]
     },
     "metadata": {},
     "output_type": "display_data"
    },
    {
     "data": {
      "application/javascript": [
       "\n",
       "(function(root) {\n",
       "  function now() {\n",
       "    return new Date();\n",
       "  }\n",
       "\n",
       "  var force = true;\n",
       "\n",
       "  if (typeof (root._bokeh_onload_callbacks) === \"undefined\" || force === true) {\n",
       "    root._bokeh_onload_callbacks = [];\n",
       "    root._bokeh_is_loading = undefined;\n",
       "  }\n",
       "\n",
       "  var JS_MIME_TYPE = 'application/javascript';\n",
       "  var HTML_MIME_TYPE = 'text/html';\n",
       "  var EXEC_MIME_TYPE = 'application/vnd.bokehjs_exec.v0+json';\n",
       "  var CLASS_NAME = 'output_bokeh rendered_html';\n",
       "\n",
       "  /**\n",
       "   * Render data to the DOM node\n",
       "   */\n",
       "  function render(props, node) {\n",
       "    var script = document.createElement(\"script\");\n",
       "    node.appendChild(script);\n",
       "  }\n",
       "\n",
       "  /**\n",
       "   * Handle when an output is cleared or removed\n",
       "   */\n",
       "  function handleClearOutput(event, handle) {\n",
       "    var cell = handle.cell;\n",
       "\n",
       "    var id = cell.output_area._bokeh_element_id;\n",
       "    var server_id = cell.output_area._bokeh_server_id;\n",
       "    // Clean up Bokeh references\n",
       "    if (id !== undefined) {\n",
       "      Bokeh.index[id].model.document.clear();\n",
       "      delete Bokeh.index[id];\n",
       "    }\n",
       "\n",
       "    if (server_id !== undefined) {\n",
       "      // Clean up Bokeh references\n",
       "      var cmd = \"from bokeh.io.state import curstate; print(curstate().uuid_to_server['\" + server_id + \"'].get_sessions()[0].document.roots[0]._id)\";\n",
       "      cell.notebook.kernel.execute(cmd, {\n",
       "        iopub: {\n",
       "          output: function(msg) {\n",
       "            var element_id = msg.content.text.trim();\n",
       "            Bokeh.index[element_id].model.document.clear();\n",
       "            delete Bokeh.index[element_id];\n",
       "          }\n",
       "        }\n",
       "      });\n",
       "      // Destroy server and session\n",
       "      var cmd = \"import bokeh.io.notebook as ion; ion.destroy_server('\" + server_id + \"')\";\n",
       "      cell.notebook.kernel.execute(cmd);\n",
       "    }\n",
       "  }\n",
       "\n",
       "  /**\n",
       "   * Handle when a new output is added\n",
       "   */\n",
       "  function handleAddOutput(event, handle) {\n",
       "    var output_area = handle.output_area;\n",
       "    var output = handle.output;\n",
       "\n",
       "    // limit handleAddOutput to display_data with EXEC_MIME_TYPE content only\n",
       "    if ((output.output_type != \"display_data\") || (!output.data.hasOwnProperty(EXEC_MIME_TYPE))) {\n",
       "      return\n",
       "    }\n",
       "\n",
       "    var toinsert = output_area.element.find(\".\" + CLASS_NAME.split(' ')[0]);\n",
       "\n",
       "    if (output.metadata[EXEC_MIME_TYPE][\"id\"] !== undefined) {\n",
       "      toinsert[toinsert.length - 1].firstChild.textContent = output.data[JS_MIME_TYPE];\n",
       "      // store reference to embed id on output_area\n",
       "      output_area._bokeh_element_id = output.metadata[EXEC_MIME_TYPE][\"id\"];\n",
       "    }\n",
       "    if (output.metadata[EXEC_MIME_TYPE][\"server_id\"] !== undefined) {\n",
       "      var bk_div = document.createElement(\"div\");\n",
       "      bk_div.innerHTML = output.data[HTML_MIME_TYPE];\n",
       "      var script_attrs = bk_div.children[0].attributes;\n",
       "      for (var i = 0; i < script_attrs.length; i++) {\n",
       "        toinsert[toinsert.length - 1].firstChild.setAttribute(script_attrs[i].name, script_attrs[i].value);\n",
       "      }\n",
       "      // store reference to server id on output_area\n",
       "      output_area._bokeh_server_id = output.metadata[EXEC_MIME_TYPE][\"server_id\"];\n",
       "    }\n",
       "  }\n",
       "\n",
       "  function register_renderer(events, OutputArea) {\n",
       "\n",
       "    function append_mime(data, metadata, element) {\n",
       "      // create a DOM node to render to\n",
       "      var toinsert = this.create_output_subarea(\n",
       "        metadata,\n",
       "        CLASS_NAME,\n",
       "        EXEC_MIME_TYPE\n",
       "      );\n",
       "      this.keyboard_manager.register_events(toinsert);\n",
       "      // Render to node\n",
       "      var props = {data: data, metadata: metadata[EXEC_MIME_TYPE]};\n",
       "      render(props, toinsert[toinsert.length - 1]);\n",
       "      element.append(toinsert);\n",
       "      return toinsert\n",
       "    }\n",
       "\n",
       "    /* Handle when an output is cleared or removed */\n",
       "    events.on('clear_output.CodeCell', handleClearOutput);\n",
       "    events.on('delete.Cell', handleClearOutput);\n",
       "\n",
       "    /* Handle when a new output is added */\n",
       "    events.on('output_added.OutputArea', handleAddOutput);\n",
       "\n",
       "    /**\n",
       "     * Register the mime type and append_mime function with output_area\n",
       "     */\n",
       "    OutputArea.prototype.register_mime_type(EXEC_MIME_TYPE, append_mime, {\n",
       "      /* Is output safe? */\n",
       "      safe: true,\n",
       "      /* Index of renderer in `output_area.display_order` */\n",
       "      index: 0\n",
       "    });\n",
       "  }\n",
       "\n",
       "  // register the mime type if in Jupyter Notebook environment and previously unregistered\n",
       "  if (root.Jupyter !== undefined) {\n",
       "    var events = require('base/js/events');\n",
       "    var OutputArea = require('notebook/js/outputarea').OutputArea;\n",
       "\n",
       "    if (OutputArea.prototype.mime_types().indexOf(EXEC_MIME_TYPE) == -1) {\n",
       "      register_renderer(events, OutputArea);\n",
       "    }\n",
       "  }\n",
       "\n",
       "  \n",
       "  if (typeof (root._bokeh_timeout) === \"undefined\" || force === true) {\n",
       "    root._bokeh_timeout = Date.now() + 5000;\n",
       "    root._bokeh_failed_load = false;\n",
       "  }\n",
       "\n",
       "  var NB_LOAD_WARNING = {'data': {'text/html':\n",
       "     \"<div style='background-color: #fdd'>\\n\"+\n",
       "     \"<p>\\n\"+\n",
       "     \"BokehJS does not appear to have successfully loaded. If loading BokehJS from CDN, this \\n\"+\n",
       "     \"may be due to a slow or bad network connection. Possible fixes:\\n\"+\n",
       "     \"</p>\\n\"+\n",
       "     \"<ul>\\n\"+\n",
       "     \"<li>re-rerun `output_notebook()` to attempt to load from CDN again, or</li>\\n\"+\n",
       "     \"<li>use INLINE resources instead, as so:</li>\\n\"+\n",
       "     \"</ul>\\n\"+\n",
       "     \"<code>\\n\"+\n",
       "     \"from bokeh.resources import INLINE\\n\"+\n",
       "     \"output_notebook(resources=INLINE)\\n\"+\n",
       "     \"</code>\\n\"+\n",
       "     \"</div>\"}};\n",
       "\n",
       "  function display_loaded() {\n",
       "    var el = document.getElementById(\"7958ad05-ff14-45d0-8c96-f1b2597addc4\");\n",
       "    if (el != null) {\n",
       "      el.textContent = \"BokehJS is loading...\";\n",
       "    }\n",
       "    if (root.Bokeh !== undefined) {\n",
       "      if (el != null) {\n",
       "        el.textContent = \"BokehJS \" + root.Bokeh.version + \" successfully loaded.\";\n",
       "      }\n",
       "    } else if (Date.now() < root._bokeh_timeout) {\n",
       "      setTimeout(display_loaded, 100)\n",
       "    }\n",
       "  }\n",
       "\n",
       "\n",
       "  function run_callbacks() {\n",
       "    try {\n",
       "      root._bokeh_onload_callbacks.forEach(function(callback) { callback() });\n",
       "    }\n",
       "    finally {\n",
       "      delete root._bokeh_onload_callbacks\n",
       "    }\n",
       "    console.info(\"Bokeh: all callbacks have finished\");\n",
       "  }\n",
       "\n",
       "  function load_libs(js_urls, callback) {\n",
       "    root._bokeh_onload_callbacks.push(callback);\n",
       "    if (root._bokeh_is_loading > 0) {\n",
       "      console.log(\"Bokeh: BokehJS is being loaded, scheduling callback at\", now());\n",
       "      return null;\n",
       "    }\n",
       "    if (js_urls == null || js_urls.length === 0) {\n",
       "      run_callbacks();\n",
       "      return null;\n",
       "    }\n",
       "    console.log(\"Bokeh: BokehJS not loaded, scheduling load and callback at\", now());\n",
       "    root._bokeh_is_loading = js_urls.length;\n",
       "    for (var i = 0; i < js_urls.length; i++) {\n",
       "      var url = js_urls[i];\n",
       "      var s = document.createElement('script');\n",
       "      s.src = url;\n",
       "      s.async = false;\n",
       "      s.onreadystatechange = s.onload = function() {\n",
       "        root._bokeh_is_loading--;\n",
       "        if (root._bokeh_is_loading === 0) {\n",
       "          console.log(\"Bokeh: all BokehJS libraries loaded\");\n",
       "          run_callbacks()\n",
       "        }\n",
       "      };\n",
       "      s.onerror = function() {\n",
       "        console.warn(\"failed to load library \" + url);\n",
       "      };\n",
       "      console.log(\"Bokeh: injecting script tag for BokehJS library: \", url);\n",
       "      document.getElementsByTagName(\"head\")[0].appendChild(s);\n",
       "    }\n",
       "  };var element = document.getElementById(\"7958ad05-ff14-45d0-8c96-f1b2597addc4\");\n",
       "  if (element == null) {\n",
       "    console.log(\"Bokeh: ERROR: autoload.js configured with elementid '7958ad05-ff14-45d0-8c96-f1b2597addc4' but no matching script tag was found. \")\n",
       "    return false;\n",
       "  }\n",
       "\n",
       "  var js_urls = [\"https://cdn.pydata.org/bokeh/release/bokeh-0.12.16.min.js\", \"https://cdn.pydata.org/bokeh/release/bokeh-widgets-0.12.16.min.js\", \"https://cdn.pydata.org/bokeh/release/bokeh-tables-0.12.16.min.js\", \"https://cdn.pydata.org/bokeh/release/bokeh-gl-0.12.16.min.js\"];\n",
       "\n",
       "  var inline_js = [\n",
       "    function(Bokeh) {\n",
       "      Bokeh.set_log_level(\"info\");\n",
       "    },\n",
       "    \n",
       "    function(Bokeh) {\n",
       "      \n",
       "    },\n",
       "    function(Bokeh) {\n",
       "      console.log(\"Bokeh: injecting CSS: https://cdn.pydata.org/bokeh/release/bokeh-0.12.16.min.css\");\n",
       "      Bokeh.embed.inject_css(\"https://cdn.pydata.org/bokeh/release/bokeh-0.12.16.min.css\");\n",
       "      console.log(\"Bokeh: injecting CSS: https://cdn.pydata.org/bokeh/release/bokeh-widgets-0.12.16.min.css\");\n",
       "      Bokeh.embed.inject_css(\"https://cdn.pydata.org/bokeh/release/bokeh-widgets-0.12.16.min.css\");\n",
       "      console.log(\"Bokeh: injecting CSS: https://cdn.pydata.org/bokeh/release/bokeh-tables-0.12.16.min.css\");\n",
       "      Bokeh.embed.inject_css(\"https://cdn.pydata.org/bokeh/release/bokeh-tables-0.12.16.min.css\");\n",
       "    }\n",
       "  ];\n",
       "\n",
       "  function run_inline_js() {\n",
       "    \n",
       "    if ((root.Bokeh !== undefined) || (force === true)) {\n",
       "      for (var i = 0; i < inline_js.length; i++) {\n",
       "        inline_js[i].call(root, root.Bokeh);\n",
       "      }if (force === true) {\n",
       "        display_loaded();\n",
       "      }} else if (Date.now() < root._bokeh_timeout) {\n",
       "      setTimeout(run_inline_js, 100);\n",
       "    } else if (!root._bokeh_failed_load) {\n",
       "      console.log(\"Bokeh: BokehJS failed to load within specified timeout.\");\n",
       "      root._bokeh_failed_load = true;\n",
       "    } else if (force !== true) {\n",
       "      var cell = $(document.getElementById(\"7958ad05-ff14-45d0-8c96-f1b2597addc4\")).parents('.cell').data().cell;\n",
       "      cell.output_area.append_execute_result(NB_LOAD_WARNING)\n",
       "    }\n",
       "\n",
       "  }\n",
       "\n",
       "  if (root._bokeh_is_loading === 0) {\n",
       "    console.log(\"Bokeh: BokehJS loaded, going straight to plotting\");\n",
       "    run_inline_js();\n",
       "  } else {\n",
       "    load_libs(js_urls, function() {\n",
       "      console.log(\"Bokeh: BokehJS plotting callback run at\", now());\n",
       "      run_inline_js();\n",
       "    });\n",
       "  }\n",
       "}(window));"
      ],
      "application/vnd.bokehjs_load.v0+json": "\n(function(root) {\n  function now() {\n    return new Date();\n  }\n\n  var force = true;\n\n  if (typeof (root._bokeh_onload_callbacks) === \"undefined\" || force === true) {\n    root._bokeh_onload_callbacks = [];\n    root._bokeh_is_loading = undefined;\n  }\n\n  \n\n  \n  if (typeof (root._bokeh_timeout) === \"undefined\" || force === true) {\n    root._bokeh_timeout = Date.now() + 5000;\n    root._bokeh_failed_load = false;\n  }\n\n  var NB_LOAD_WARNING = {'data': {'text/html':\n     \"<div style='background-color: #fdd'>\\n\"+\n     \"<p>\\n\"+\n     \"BokehJS does not appear to have successfully loaded. If loading BokehJS from CDN, this \\n\"+\n     \"may be due to a slow or bad network connection. Possible fixes:\\n\"+\n     \"</p>\\n\"+\n     \"<ul>\\n\"+\n     \"<li>re-rerun `output_notebook()` to attempt to load from CDN again, or</li>\\n\"+\n     \"<li>use INLINE resources instead, as so:</li>\\n\"+\n     \"</ul>\\n\"+\n     \"<code>\\n\"+\n     \"from bokeh.resources import INLINE\\n\"+\n     \"output_notebook(resources=INLINE)\\n\"+\n     \"</code>\\n\"+\n     \"</div>\"}};\n\n  function display_loaded() {\n    var el = document.getElementById(\"7958ad05-ff14-45d0-8c96-f1b2597addc4\");\n    if (el != null) {\n      el.textContent = \"BokehJS is loading...\";\n    }\n    if (root.Bokeh !== undefined) {\n      if (el != null) {\n        el.textContent = \"BokehJS \" + root.Bokeh.version + \" successfully loaded.\";\n      }\n    } else if (Date.now() < root._bokeh_timeout) {\n      setTimeout(display_loaded, 100)\n    }\n  }\n\n\n  function run_callbacks() {\n    try {\n      root._bokeh_onload_callbacks.forEach(function(callback) { callback() });\n    }\n    finally {\n      delete root._bokeh_onload_callbacks\n    }\n    console.info(\"Bokeh: all callbacks have finished\");\n  }\n\n  function load_libs(js_urls, callback) {\n    root._bokeh_onload_callbacks.push(callback);\n    if (root._bokeh_is_loading > 0) {\n      console.log(\"Bokeh: BokehJS is being loaded, scheduling callback at\", now());\n      return null;\n    }\n    if (js_urls == null || js_urls.length === 0) {\n      run_callbacks();\n      return null;\n    }\n    console.log(\"Bokeh: BokehJS not loaded, scheduling load and callback at\", now());\n    root._bokeh_is_loading = js_urls.length;\n    for (var i = 0; i < js_urls.length; i++) {\n      var url = js_urls[i];\n      var s = document.createElement('script');\n      s.src = url;\n      s.async = false;\n      s.onreadystatechange = s.onload = function() {\n        root._bokeh_is_loading--;\n        if (root._bokeh_is_loading === 0) {\n          console.log(\"Bokeh: all BokehJS libraries loaded\");\n          run_callbacks()\n        }\n      };\n      s.onerror = function() {\n        console.warn(\"failed to load library \" + url);\n      };\n      console.log(\"Bokeh: injecting script tag for BokehJS library: \", url);\n      document.getElementsByTagName(\"head\")[0].appendChild(s);\n    }\n  };var element = document.getElementById(\"7958ad05-ff14-45d0-8c96-f1b2597addc4\");\n  if (element == null) {\n    console.log(\"Bokeh: ERROR: autoload.js configured with elementid '7958ad05-ff14-45d0-8c96-f1b2597addc4' but no matching script tag was found. \")\n    return false;\n  }\n\n  var js_urls = [\"https://cdn.pydata.org/bokeh/release/bokeh-0.12.16.min.js\", \"https://cdn.pydata.org/bokeh/release/bokeh-widgets-0.12.16.min.js\", \"https://cdn.pydata.org/bokeh/release/bokeh-tables-0.12.16.min.js\", \"https://cdn.pydata.org/bokeh/release/bokeh-gl-0.12.16.min.js\"];\n\n  var inline_js = [\n    function(Bokeh) {\n      Bokeh.set_log_level(\"info\");\n    },\n    \n    function(Bokeh) {\n      \n    },\n    function(Bokeh) {\n      console.log(\"Bokeh: injecting CSS: https://cdn.pydata.org/bokeh/release/bokeh-0.12.16.min.css\");\n      Bokeh.embed.inject_css(\"https://cdn.pydata.org/bokeh/release/bokeh-0.12.16.min.css\");\n      console.log(\"Bokeh: injecting CSS: https://cdn.pydata.org/bokeh/release/bokeh-widgets-0.12.16.min.css\");\n      Bokeh.embed.inject_css(\"https://cdn.pydata.org/bokeh/release/bokeh-widgets-0.12.16.min.css\");\n      console.log(\"Bokeh: injecting CSS: https://cdn.pydata.org/bokeh/release/bokeh-tables-0.12.16.min.css\");\n      Bokeh.embed.inject_css(\"https://cdn.pydata.org/bokeh/release/bokeh-tables-0.12.16.min.css\");\n    }\n  ];\n\n  function run_inline_js() {\n    \n    if ((root.Bokeh !== undefined) || (force === true)) {\n      for (var i = 0; i < inline_js.length; i++) {\n        inline_js[i].call(root, root.Bokeh);\n      }if (force === true) {\n        display_loaded();\n      }} else if (Date.now() < root._bokeh_timeout) {\n      setTimeout(run_inline_js, 100);\n    } else if (!root._bokeh_failed_load) {\n      console.log(\"Bokeh: BokehJS failed to load within specified timeout.\");\n      root._bokeh_failed_load = true;\n    } else if (force !== true) {\n      var cell = $(document.getElementById(\"7958ad05-ff14-45d0-8c96-f1b2597addc4\")).parents('.cell').data().cell;\n      cell.output_area.append_execute_result(NB_LOAD_WARNING)\n    }\n\n  }\n\n  if (root._bokeh_is_loading === 0) {\n    console.log(\"Bokeh: BokehJS loaded, going straight to plotting\");\n    run_inline_js();\n  } else {\n    load_libs(js_urls, function() {\n      console.log(\"Bokeh: BokehJS plotting callback run at\", now());\n      run_inline_js();\n    });\n  }\n}(window));"
     },
     "metadata": {},
     "output_type": "display_data"
    }
   ],
   "source": [
    "import pandas as pd\n",
    "import matplotlib.pyplot as plt\n",
    "from ipywidgets import interact, FloatSlider\n",
    "from bokeh.io import output_notebook, push_notebook, show, curdoc\n",
    "from bokeh.plotting import figure\n",
    "from bokeh.models import HoverTool, ColumnDataSource, CategoricalColorMapper, Slider\n",
    "from bokeh.layouts import widgetbox, row\n",
    "import numpy as np\n",
    "from sklearn.metrics import mean_squared_error\n",
    "output_notebook()"
   ]
  },
  {
   "cell_type": "code",
   "execution_count": 3,
   "metadata": {},
   "outputs": [],
   "source": [
    "df_galton = pd.read_csv('Galton.txt', sep='\\t')\n",
    "source = ColumnDataSource(df_galton)"
   ]
  },
  {
   "cell_type": "code",
   "execution_count": 4,
   "metadata": {},
   "outputs": [
    {
     "data": {
      "text/html": [
       "<div>\n",
       "<style scoped>\n",
       "    .dataframe tbody tr th:only-of-type {\n",
       "        vertical-align: middle;\n",
       "    }\n",
       "\n",
       "    .dataframe tbody tr th {\n",
       "        vertical-align: top;\n",
       "    }\n",
       "\n",
       "    .dataframe thead th {\n",
       "        text-align: right;\n",
       "    }\n",
       "</style>\n",
       "<table border=\"1\" class=\"dataframe\">\n",
       "  <thead>\n",
       "    <tr style=\"text-align: right;\">\n",
       "      <th></th>\n",
       "      <th>Family</th>\n",
       "      <th>Father</th>\n",
       "      <th>Mother</th>\n",
       "      <th>Gender</th>\n",
       "      <th>Height</th>\n",
       "      <th>Kids</th>\n",
       "    </tr>\n",
       "  </thead>\n",
       "  <tbody>\n",
       "    <tr>\n",
       "      <th>0</th>\n",
       "      <td>1</td>\n",
       "      <td>78.5</td>\n",
       "      <td>67.0</td>\n",
       "      <td>M</td>\n",
       "      <td>73.2</td>\n",
       "      <td>4</td>\n",
       "    </tr>\n",
       "    <tr>\n",
       "      <th>1</th>\n",
       "      <td>1</td>\n",
       "      <td>78.5</td>\n",
       "      <td>67.0</td>\n",
       "      <td>F</td>\n",
       "      <td>69.2</td>\n",
       "      <td>4</td>\n",
       "    </tr>\n",
       "    <tr>\n",
       "      <th>2</th>\n",
       "      <td>1</td>\n",
       "      <td>78.5</td>\n",
       "      <td>67.0</td>\n",
       "      <td>F</td>\n",
       "      <td>69.0</td>\n",
       "      <td>4</td>\n",
       "    </tr>\n",
       "    <tr>\n",
       "      <th>3</th>\n",
       "      <td>1</td>\n",
       "      <td>78.5</td>\n",
       "      <td>67.0</td>\n",
       "      <td>F</td>\n",
       "      <td>69.0</td>\n",
       "      <td>4</td>\n",
       "    </tr>\n",
       "    <tr>\n",
       "      <th>4</th>\n",
       "      <td>2</td>\n",
       "      <td>75.5</td>\n",
       "      <td>66.5</td>\n",
       "      <td>M</td>\n",
       "      <td>73.5</td>\n",
       "      <td>4</td>\n",
       "    </tr>\n",
       "  </tbody>\n",
       "</table>\n",
       "</div>"
      ],
      "text/plain": [
       "  Family  Father  Mother Gender  Height  Kids\n",
       "0      1    78.5    67.0      M    73.2     4\n",
       "1      1    78.5    67.0      F    69.2     4\n",
       "2      1    78.5    67.0      F    69.0     4\n",
       "3      1    78.5    67.0      F    69.0     4\n",
       "4      2    75.5    66.5      M    73.5     4"
      ]
     },
     "execution_count": 4,
     "metadata": {},
     "output_type": "execute_result"
    }
   ],
   "source": [
    "df_galton.head()"
   ]
  },
  {
   "cell_type": "code",
   "execution_count": 5,
   "metadata": {},
   "outputs": [],
   "source": [
    "hover = HoverTool(tooltips=[(\"(x,y)\", \"($x, $y)\")])\n",
    "mapper = CategoricalColorMapper(factors=['M', 'F'], palette=['green', 'blue'])\n",
    "plot1 = figure(x_axis_label='Father', y_axis_label='Child', plot_width=500, tools=[hover, 'crosshair', 'box_select, lasso_select', 'pan,box_zoom'])\n",
    "c = plot1.circle('Father', 'Height', source=source, hover_color='red', color={'field': 'Gender', 'transform': mapper})"
   ]
  },
  {
   "cell_type": "code",
   "execution_count": 6,
   "metadata": {},
   "outputs": [],
   "source": [
    "slope, intercept = np.polyfit(df_galton['Father'], df_galton['Height'], deg=1)"
   ]
  },
  {
   "cell_type": "code",
   "execution_count": 7,
   "metadata": {},
   "outputs": [],
   "source": [
    "X = [df_galton['Father'].min(), df_galton['Father'].max()]\n",
    "y = [x * slope + intercept for x in X]\n",
    "line_source = ColumnDataSource({'x':X, 'y':y})\n",
    "l = plot1.line('x', 'y', source=line_source, line_color='orange')"
   ]
  },
  {
   "cell_type": "code",
   "execution_count": 8,
   "metadata": {},
   "outputs": [],
   "source": [
    "weights, step = np.linspace(-1,1.8,100, retstep=True)\n",
    "loss = [mean_squared_error(df_galton['Height'], df_galton['Father'] * slope + intercept) for slope in weights]\n",
    "loss_source = ColumnDataSource({'x':weights, 'y':loss})\n",
    "point_source = ColumnDataSource({'x':[weights[0]], 'y':[loss[0]]})\n",
    "\n",
    "plot2 = figure(x_axis_label='Weights (slopes)', y_axis_label='Loss (Cost/Error)', tools=[hover, 'crosshair', 'box_select, lasso_select', 'pan,box_zoom'])\n",
    "l2 = plot2.line('x', 'y', source=loss_source)\n",
    "c2 = plot2.circle('x', 'y', source=point_source, color='red', size=5)"
   ]
  },
  {
   "cell_type": "code",
   "execution_count": 9,
   "metadata": {},
   "outputs": [],
   "source": [
    "def update(slope, intercept):\n",
    "    y_pred = [x * slope + intercept for x in df_galton['Father']]    \n",
    "    l.data_source.data['y'] = [x * slope + intercept for x in X]\n",
    "    c2.data_source.data['x'] = [slope]\n",
    "    c2.data_source.data['y'] = [mean_squared_error(df_galton['Height'], y_pred)]\n",
    "    push_notebook()"
   ]
  },
  {
   "cell_type": "code",
   "execution_count": 10,
   "metadata": {},
   "outputs": [
    {
     "data": {
      "text/html": [
       "\n",
       "<div class=\"bk-root\">\n",
       "    <div class=\"bk-plotdiv\" id=\"051d97f8-3d5b-4f2f-903a-7b5a524850a7\"></div>\n",
       "</div>"
      ]
     },
     "metadata": {},
     "output_type": "display_data"
    },
    {
     "data": {
      "application/javascript": [
       "(function(root) {\n",
       "  function embed_document(root) {\n",
       "    \n",
       "  var docs_json = {\"4ecdb965-048c-487a-a483-48d46aac90c5\":{\"roots\":{\"references\":[{\"attributes\":{\"line_color\":\"#1f77b4\",\"x\":{\"field\":\"x\"},\"y\":{\"field\":\"y\"}},\"id\":\"1ff5d002-9df6-446d-bb8c-62089ce76735\",\"type\":\"Line\"},{\"attributes\":{\"plot\":{\"id\":\"d3174f20-e70b-4780-ae79-f44135850153\",\"subtype\":\"Figure\",\"type\":\"Plot\"},\"ticker\":{\"id\":\"60bc8c3c-45ec-457b-a615-702725345f4b\",\"type\":\"BasicTicker\"}},\"id\":\"418ecf40-b177-4eff-b8bd-ee467859c048\",\"type\":\"Grid\"},{\"attributes\":{},\"id\":\"bf01b0c8-e464-4988-8e34-5c5cc1f1c68f\",\"type\":\"UnionRenderers\"},{\"attributes\":{\"line_alpha\":0.1,\"line_color\":\"#1f77b4\",\"x\":{\"field\":\"x\"},\"y\":{\"field\":\"y\"}},\"id\":\"f66f4e62-1471-42f8-b9e5-042140a3f096\",\"type\":\"Line\"},{\"attributes\":{\"bottom_units\":\"screen\",\"fill_alpha\":{\"value\":0.5},\"fill_color\":{\"value\":\"lightgrey\"},\"left_units\":\"screen\",\"level\":\"overlay\",\"line_alpha\":{\"value\":1.0},\"line_color\":{\"value\":\"black\"},\"line_dash\":[4,4],\"line_width\":{\"value\":2},\"plot\":null,\"render_mode\":\"css\",\"right_units\":\"screen\",\"top_units\":\"screen\"},\"id\":\"83f7f94a-0eb3-4658-aa44-8e950266dee8\",\"type\":\"BoxAnnotation\"},{\"attributes\":{\"axis_label\":\"Loss (Cost/Error)\",\"formatter\":{\"id\":\"b4491f35-2caa-472f-9226-69c365e44bd3\",\"type\":\"BasicTickFormatter\"},\"plot\":{\"id\":\"d3174f20-e70b-4780-ae79-f44135850153\",\"subtype\":\"Figure\",\"type\":\"Plot\"},\"ticker\":{\"id\":\"00ac6587-9198-4613-81c6-5e6f0b27ec5d\",\"type\":\"BasicTicker\"}},\"id\":\"8b37cc44-6cc1-4d63-8d20-5d38f173e7d4\",\"type\":\"LinearAxis\"},{\"attributes\":{},\"id\":\"00ac6587-9198-4613-81c6-5e6f0b27ec5d\",\"type\":\"BasicTicker\"},{\"attributes\":{\"dimension\":1,\"plot\":{\"id\":\"d3174f20-e70b-4780-ae79-f44135850153\",\"subtype\":\"Figure\",\"type\":\"Plot\"},\"ticker\":{\"id\":\"00ac6587-9198-4613-81c6-5e6f0b27ec5d\",\"type\":\"BasicTicker\"}},\"id\":\"e02c61d9-df07-4d3c-8f7f-e42542c744de\",\"type\":\"Grid\"},{\"attributes\":{},\"id\":\"9359e3dc-e8f6-47a2-89a6-f1af131b3448\",\"type\":\"Selection\"},{\"attributes\":{},\"id\":\"fe0cb60e-1749-42f3-9206-9ad36c4caee2\",\"type\":\"CrosshairTool\"},{\"attributes\":{},\"id\":\"b8218456-b969-494c-9803-059c6c80a504\",\"type\":\"UnionRenderers\"},{\"attributes\":{\"callback\":null,\"overlay\":{\"id\":\"83f7f94a-0eb3-4658-aa44-8e950266dee8\",\"type\":\"BoxAnnotation\"}},\"id\":\"e0f871c8-b75f-49a1-b1a8-4958addfec08\",\"type\":\"BoxSelectTool\"},{\"attributes\":{\"callback\":null,\"overlay\":{\"id\":\"0e7fd995-dfdb-473c-a45d-6bf5adbcc22c\",\"type\":\"PolyAnnotation\"}},\"id\":\"f3b52df1-c549-4855-a80d-7f3861f11330\",\"type\":\"LassoSelectTool\"},{\"attributes\":{},\"id\":\"9b006bbb-f71a-4f88-82b7-23f979258e33\",\"type\":\"PanTool\"},{\"attributes\":{\"overlay\":{\"id\":\"cffecc97-8805-4d86-b098-a322f7d0b5e8\",\"type\":\"BoxAnnotation\"}},\"id\":\"6bf24062-ba8d-44a3-a017-5d8a7799cc93\",\"type\":\"BoxZoomTool\"},{\"attributes\":{},\"id\":\"7df46b4e-577c-4a87-9c94-374d3dc6b1ff\",\"type\":\"Selection\"},{\"attributes\":{\"data_source\":{\"id\":\"7b9f7f31-495b-41e7-b3b4-e648e20306aa\",\"type\":\"ColumnDataSource\"},\"glyph\":{\"id\":\"1ff5d002-9df6-446d-bb8c-62089ce76735\",\"type\":\"Line\"},\"hover_glyph\":null,\"muted_glyph\":null,\"nonselection_glyph\":{\"id\":\"c8a57de2-2ad6-4de3-a01b-e836b6a7d0f1\",\"type\":\"Line\"},\"selection_glyph\":null,\"view\":{\"id\":\"1ac7ed07-0a9a-412e-85e7-0626a4ef4f04\",\"type\":\"CDSView\"}},\"id\":\"bb0318e3-ced5-43f7-b966-980502c5d973\",\"type\":\"GlyphRenderer\"},{\"attributes\":{},\"id\":\"3694ed99-1cce-4395-8393-effc498e6700\",\"type\":\"Selection\"},{\"attributes\":{\"fill_alpha\":{\"value\":0.5},\"fill_color\":{\"value\":\"lightgrey\"},\"level\":\"overlay\",\"line_alpha\":{\"value\":1.0},\"line_color\":{\"value\":\"black\"},\"line_dash\":[4,4],\"line_width\":{\"value\":2},\"plot\":null,\"xs_units\":\"screen\",\"ys_units\":\"screen\"},\"id\":\"0e7fd995-dfdb-473c-a45d-6bf5adbcc22c\",\"type\":\"PolyAnnotation\"},{\"attributes\":{\"bottom_units\":\"screen\",\"fill_alpha\":{\"value\":0.5},\"fill_color\":{\"value\":\"lightgrey\"},\"left_units\":\"screen\",\"level\":\"overlay\",\"line_alpha\":{\"value\":1.0},\"line_color\":{\"value\":\"black\"},\"line_dash\":[4,4],\"line_width\":{\"value\":2},\"plot\":null,\"render_mode\":\"css\",\"right_units\":\"screen\",\"top_units\":\"screen\"},\"id\":\"cffecc97-8805-4d86-b098-a322f7d0b5e8\",\"type\":\"BoxAnnotation\"},{\"attributes\":{\"callback\":null,\"data\":{\"x\":[62.0,78.5],\"y\":[63.87202532278641,70.46181621011273]},\"selected\":{\"id\":\"3694ed99-1cce-4395-8393-effc498e6700\",\"type\":\"Selection\"},\"selection_policy\":{\"id\":\"b8218456-b969-494c-9803-059c6c80a504\",\"type\":\"UnionRenderers\"}},\"id\":\"b97b2533-6398-44ea-987e-cc0042f0af9e\",\"type\":\"ColumnDataSource\"},{\"attributes\":{\"data_source\":{\"id\":\"b97b2533-6398-44ea-987e-cc0042f0af9e\",\"type\":\"ColumnDataSource\"},\"glyph\":{\"id\":\"2844e393-3325-4742-a90e-9388315bbfe4\",\"type\":\"Line\"},\"hover_glyph\":null,\"muted_glyph\":null,\"nonselection_glyph\":{\"id\":\"f66f4e62-1471-42f8-b9e5-042140a3f096\",\"type\":\"Line\"},\"selection_glyph\":null,\"view\":{\"id\":\"3f76e0a1-5f9e-473c-8a86-941d00379f66\",\"type\":\"CDSView\"}},\"id\":\"c1a4e601-b696-4fc0-a87a-afb7ddd9564d\",\"type\":\"GlyphRenderer\"},{\"attributes\":{\"fill_alpha\":{\"value\":0.1},\"fill_color\":{\"value\":\"#1f77b4\"},\"line_alpha\":{\"value\":0.1},\"line_color\":{\"value\":\"#1f77b4\"},\"size\":{\"units\":\"screen\",\"value\":5},\"x\":{\"field\":\"x\"},\"y\":{\"field\":\"y\"}},\"id\":\"f9422275-bada-43a2-b7a5-5c4535795eab\",\"type\":\"Circle\"},{\"attributes\":{\"callback\":null,\"renderers\":\"auto\",\"tooltips\":[[\"(x,y)\",\"($x, $y)\"]]},\"id\":\"7151e21e-98fd-4040-9988-2a42683555ab\",\"type\":\"HoverTool\"},{\"attributes\":{\"source\":{\"id\":\"9b2913df-303f-4358-b74d-d5451df7c58a\",\"type\":\"ColumnDataSource\"}},\"id\":\"5b39328b-e98e-461f-bc38-a98a64758812\",\"type\":\"CDSView\"},{\"attributes\":{\"line_alpha\":0.1,\"line_color\":\"#1f77b4\",\"x\":{\"field\":\"x\"},\"y\":{\"field\":\"y\"}},\"id\":\"c8a57de2-2ad6-4de3-a01b-e836b6a7d0f1\",\"type\":\"Line\"},{\"attributes\":{\"source\":{\"id\":\"7b9f7f31-495b-41e7-b3b4-e648e20306aa\",\"type\":\"ColumnDataSource\"}},\"id\":\"1ac7ed07-0a9a-412e-85e7-0626a4ef4f04\",\"type\":\"CDSView\"},{\"attributes\":{\"factors\":[\"M\",\"F\"],\"palette\":[\"green\",\"blue\"]},\"id\":\"66e69507-6dde-4a9f-a0d5-54e9aa407965\",\"type\":\"CategoricalColorMapper\"},{\"attributes\":{\"below\":[{\"id\":\"ff98dabc-19a3-4b47-b9a5-5287d87cce5b\",\"type\":\"LinearAxis\"}],\"left\":[{\"id\":\"5985a9dc-0825-4759-b744-b7b07e4bcfdf\",\"type\":\"LinearAxis\"}],\"plot_width\":500,\"renderers\":[{\"id\":\"ff98dabc-19a3-4b47-b9a5-5287d87cce5b\",\"type\":\"LinearAxis\"},{\"id\":\"96990459-023d-4450-9ed2-95d950f050f7\",\"type\":\"Grid\"},{\"id\":\"5985a9dc-0825-4759-b744-b7b07e4bcfdf\",\"type\":\"LinearAxis\"},{\"id\":\"ad5024e1-fd39-465f-9768-79b13355f852\",\"type\":\"Grid\"},{\"id\":\"2090d78e-1c79-4f3a-8ce8-b79185c7e61a\",\"type\":\"BoxAnnotation\"},{\"id\":\"9aa9a9af-84a4-4c1c-a4de-7c6dc2dbec65\",\"type\":\"PolyAnnotation\"},{\"id\":\"325a1875-2c76-4ec0-b37d-b65ebad6e646\",\"type\":\"BoxAnnotation\"},{\"id\":\"fc32fc54-a8ce-458d-843c-1766b563499b\",\"type\":\"GlyphRenderer\"},{\"id\":\"c1a4e601-b696-4fc0-a87a-afb7ddd9564d\",\"type\":\"GlyphRenderer\"}],\"title\":{\"id\":\"da192a5b-e3c2-415f-8cce-0eb894e143c4\",\"type\":\"Title\"},\"toolbar\":{\"id\":\"bd071197-b252-47e8-98a1-632d28f48e13\",\"type\":\"Toolbar\"},\"x_range\":{\"id\":\"94181a22-e1de-4bd6-8653-3f7d3b54670a\",\"type\":\"DataRange1d\"},\"x_scale\":{\"id\":\"d9d9e403-18ae-487f-b18b-0ae2a5667463\",\"type\":\"LinearScale\"},\"y_range\":{\"id\":\"dce9f0c8-421b-4c98-99b0-fefbcd9a067c\",\"type\":\"DataRange1d\"},\"y_scale\":{\"id\":\"2c769a75-1001-413e-9074-c616839bcf3a\",\"type\":\"LinearScale\"}},\"id\":\"f3878e37-2b13-4567-86e0-5103207982a3\",\"subtype\":\"Figure\",\"type\":\"Plot\"},{\"attributes\":{\"callback\":null,\"data\":{\"Family\":[\"1\",\"1\",\"1\",\"1\",\"2\",\"2\",\"2\",\"2\",\"3\",\"3\",\"4\",\"4\",\"4\",\"4\",\"4\",\"5\",\"5\",\"5\",\"5\",\"5\",\"5\",\"6\",\"7\",\"7\",\"7\",\"7\",\"7\",\"7\",\"8\",\"8\",\"8\",\"9\",\"10\",\"11\",\"11\",\"11\",\"11\",\"11\",\"11\",\"11\",\"11\",\"12\",\"14\",\"14\",\"15\",\"15\",\"15\",\"16\",\"16\",\"16\",\"16\",\"16\",\"16\",\"16\",\"16\",\"16\",\"17\",\"17\",\"17\",\"17\",\"17\",\"17\",\"18\",\"18\",\"18\",\"19\",\"20\",\"20\",\"20\",\"20\",\"20\",\"20\",\"20\",\"20\",\"21\",\"21\",\"21\",\"22\",\"22\",\"22\",\"23\",\"23\",\"23\",\"23\",\"23\",\"23\",\"23\",\"24\",\"25\",\"25\",\"26\",\"26\",\"26\",\"26\",\"26\",\"27\",\"27\",\"27\",\"28\",\"28\",\"28\",\"28\",\"28\",\"28\",\"29\",\"29\",\"29\",\"30\",\"31\",\"31\",\"31\",\"31\",\"31\",\"31\",\"32\",\"32\",\"32\",\"32\",\"32\",\"33\",\"33\",\"33\",\"33\",\"33\",\"34\",\"35\",\"35\",\"35\",\"35\",\"35\",\"36\",\"36\",\"36\",\"36\",\"37\",\"37\",\"37\",\"37\",\"38\",\"38\",\"38\",\"38\",\"38\",\"38\",\"39\",\"39\",\"40\",\"40\",\"40\",\"40\",\"40\",\"41\",\"42\",\"42\",\"42\",\"42\",\"42\",\"42\",\"43\",\"43\",\"44\",\"44\",\"45\",\"45\",\"45\",\"46\",\"46\",\"46\",\"46\",\"46\",\"46\",\"46\",\"46\",\"47\",\"47\",\"47\",\"47\",\"48\",\"48\",\"48\",\"49\",\"49\",\"49\",\"49\",\"49\",\"49\",\"49\",\"51\",\"51\",\"52\",\"52\",\"52\",\"52\",\"52\",\"53\",\"53\",\"53\",\"53\",\"53\",\"53\",\"53\",\"53\",\"53\",\"54\",\"54\",\"54\",\"54\",\"55\",\"55\",\"55\",\"55\",\"55\",\"56\",\"56\",\"56\",\"56\",\"56\",\"57\",\"57\",\"57\",\"57\",\"57\",\"58\",\"58\",\"58\",\"58\",\"58\",\"58\",\"58\",\"59\",\"60\",\"60\",\"61\",\"61\",\"61\",\"61\",\"62\",\"62\",\"62\",\"62\",\"62\",\"62\",\"63\",\"64\",\"64\",\"64\",\"64\",\"64\",\"65\",\"66\",\"66\",\"66\",\"66\",\"66\",\"66\",\"66\",\"66\",\"66\",\"66\",\"66\",\"67\",\"67\",\"67\",\"67\",\"68\",\"68\",\"68\",\"68\",\"68\",\"69\",\"69\",\"69\",\"69\",\"69\",\"69\",\"69\",\"69\",\"70\",\"70\",\"70\",\"70\",\"70\",\"71\",\"71\",\"71\",\"71\",\"71\",\"71\",\"72\",\"72\",\"72\",\"72\",\"72\",\"72\",\"72\",\"73\",\"73\",\"73\",\"74\",\"74\",\"75\",\"75\",\"75\",\"75\",\"75\",\"75\",\"75\",\"76\",\"76\",\"76\",\"76\",\"76\",\"76\",\"76\",\"77\",\"77\",\"77\",\"77\",\"78\",\"78\",\"78\",\"78\",\"78\",\"79\",\"79\",\"79\",\"79\",\"79\",\"79\",\"79\",\"79\",\"80\",\"81\",\"81\",\"81\",\"81\",\"82\",\"82\",\"82\",\"82\",\"82\",\"82\",\"82\",\"82\",\"82\",\"83\",\"83\",\"83\",\"83\",\"83\",\"83\",\"83\",\"83\",\"85\",\"85\",\"85\",\"85\",\"85\",\"86\",\"86\",\"86\",\"86\",\"87\",\"87\",\"87\",\"87\",\"88\",\"88\",\"88\",\"88\",\"89\",\"89\",\"89\",\"89\",\"89\",\"89\",\"89\",\"89\",\"90\",\"90\",\"90\",\"90\",\"90\",\"90\",\"90\",\"91\",\"91\",\"91\",\"92\",\"92\",\"93\",\"93\",\"93\",\"93\",\"94\",\"94\",\"95\",\"95\",\"95\",\"96\",\"96\",\"96\",\"96\",\"96\",\"97\",\"97\",\"97\",\"97\",\"97\",\"97\",\"97\",\"97\",\"97\",\"97\",\"98\",\"99\",\"99\",\"99\",\"99\",\"99\",\"99\",\"99\",\"99\",\"100\",\"100\",\"100\",\"101\",\"101\",\"101\",\"101\",\"101\",\"101\",\"102\",\"102\",\"102\",\"102\",\"102\",\"102\",\"103\",\"103\",\"103\",\"103\",\"103\",\"104\",\"104\",\"104\",\"104\",\"105\",\"105\",\"105\",\"105\",\"105\",\"105\",\"106\",\"106\",\"106\",\"106\",\"106\",\"106\",\"106\",\"107\",\"107\",\"107\",\"107\",\"107\",\"107\",\"107\",\"107\",\"107\",\"108\",\"108\",\"108\",\"108\",\"108\",\"108\",\"108\",\"109\",\"109\",\"109\",\"109\",\"109\",\"109\",\"109\",\"110\",\"110\",\"110\",\"110\",\"112\",\"112\",\"112\",\"113\",\"114\",\"114\",\"114\",\"114\",\"114\",\"114\",\"115\",\"115\",\"115\",\"115\",\"115\",\"115\",\"115\",\"116\",\"116\",\"116\",\"117\",\"118\",\"118\",\"118\",\"119\",\"119\",\"119\",\"119\",\"119\",\"121\",\"121\",\"121\",\"121\",\"121\",\"121\",\"121\",\"121\",\"122\",\"122\",\"122\",\"122\",\"123\",\"123\",\"123\",\"123\",\"123\",\"124\",\"124\",\"124\",\"124\",\"124\",\"124\",\"124\",\"124\",\"124\",\"125\",\"125\",\"125\",\"126\",\"126\",\"126\",\"126\",\"127\",\"128\",\"128\",\"129\",\"129\",\"129\",\"130\",\"130\",\"130\",\"130\",\"130\",\"130\",\"130\",\"130\",\"130\",\"130\",\"131\",\"131\",\"132\",\"132\",\"133\",\"133\",\"133\",\"133\",\"133\",\"133\",\"133\",\"134\",\"134\",\"134\",\"134\",\"135\",\"135\",\"135\",\"135\",\"135\",\"135\",\"135\",\"135\",\"136\",\"136\",\"136\",\"136\",\"136\",\"136\",\"136\",\"136\",\"136\",\"136\",\"137\",\"137\",\"137\",\"137\",\"138\",\"138\",\"138\",\"138\",\"138\",\"139\",\"140\",\"140\",\"140\",\"140\",\"140\",\"140\",\"140\",\"140\",\"140\",\"140\",\"141\",\"141\",\"141\",\"141\",\"141\",\"141\",\"141\",\"141\",\"142\",\"142\",\"142\",\"142\",\"143\",\"144\",\"144\",\"144\",\"144\",\"145\",\"145\",\"145\",\"145\",\"145\",\"145\",\"145\",\"145\",\"146\",\"146\",\"146\",\"146\",\"146\",\"146\",\"147\",\"148\",\"149\",\"149\",\"149\",\"149\",\"149\",\"150\",\"151\",\"151\",\"152\",\"153\",\"153\",\"153\",\"153\",\"153\",\"154\",\"155\",\"155\",\"155\",\"155\",\"155\",\"155\",\"155\",\"156\",\"156\",\"156\",\"156\",\"157\",\"158\",\"158\",\"158\",\"158\",\"158\",\"158\",\"158\",\"158\",\"158\",\"158\",\"159\",\"159\",\"159\",\"159\",\"159\",\"160\",\"162\",\"162\",\"162\",\"162\",\"162\",\"162\",\"163\",\"163\",\"163\",\"163\",\"163\",\"164\",\"164\",\"164\",\"164\",\"165\",\"165\",\"165\",\"166\",\"166\",\"166\",\"166\",\"166\",\"166\",\"166\",\"166\",\"166\",\"166\",\"166\",\"167\",\"167\",\"167\",\"167\",\"168\",\"168\",\"168\",\"168\",\"168\",\"168\",\"168\",\"168\",\"169\",\"169\",\"169\",\"170\",\"170\",\"170\",\"170\",\"170\",\"171\",\"172\",\"172\",\"172\",\"172\",\"172\",\"172\",\"172\",\"172\",\"173\",\"173\",\"173\",\"173\",\"173\",\"173\",\"173\",\"173\",\"173\",\"174\",\"174\",\"174\",\"174\",\"174\",\"175\",\"175\",\"175\",\"175\",\"175\",\"175\",\"176\",\"176\",\"176\",\"176\",\"176\",\"176\",\"176\",\"176\",\"177\",\"177\",\"177\",\"177\",\"177\",\"178\",\"179\",\"179\",\"180\",\"180\",\"180\",\"180\",\"180\",\"180\",\"181\",\"181\",\"181\",\"181\",\"181\",\"181\",\"181\",\"182\",\"183\",\"183\",\"183\",\"183\",\"184\",\"185\",\"185\",\"185\",\"185\",\"185\",\"185\",\"185\",\"185\",\"185\",\"185\",\"185\",\"185\",\"185\",\"185\",\"185\",\"186\",\"186\",\"186\",\"186\",\"187\",\"188\",\"188\",\"188\",\"188\",\"190\",\"190\",\"190\",\"190\",\"190\",\"190\",\"190\",\"190\",\"190\",\"191\",\"191\",\"192\",\"192\",\"192\",\"192\",\"192\",\"192\",\"193\",\"193\",\"193\",\"193\",\"193\",\"193\",\"194\",\"194\",\"195\",\"195\",\"195\",\"196\",\"196\",\"196\",\"196\",\"197\",\"197\",\"197\",\"197\",\"197\",\"198\",\"198\",\"198\",\"198\",\"198\",\"198\",\"198\",\"199\",\"199\",\"199\",\"199\",\"199\",\"199\",\"199\",\"200\",\"201\",\"201\",\"203\",\"203\",\"203\",\"204\",\"204\",\"136A\",\"136A\",\"136A\",\"136A\",\"136A\",\"136A\",\"136A\",\"136A\"],\"Father\":{\"__ndarray__\":\"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\",\"dtype\":\"float64\",\"shape\":[898]},\"Gender\":[\"M\",\"F\",\"F\",\"F\",\"M\",\"M\",\"F\",\"F\",\"M\",\"F\",\"M\",\"M\",\"F\",\"F\",\"F\",\"M\",\"M\",\"M\",\"F\",\"F\",\"F\",\"F\",\"M\",\"M\",\"M\",\"M\",\"F\",\"F\",\"F\",\"F\",\"F\",\"F\",\"F\",\"M\",\"M\",\"F\",\"F\",\"F\",\"F\",\"F\",\"F\",\"F\",\"M\",\"M\",\"M\",\"M\",\"F\",\"M\",\"M\",\"M\",\"M\",\"M\",\"F\",\"F\",\"F\",\"F\",\"M\",\"M\",\"M\",\"M\",\"F\",\"F\",\"F\",\"F\",\"F\",\"F\",\"M\",\"M\",\"M\",\"F\",\"F\",\"F\",\"F\",\"F\",\"M\",\"F\",\"F\",\"M\",\"M\",\"F\",\"M\",\"M\",\"M\",\"F\",\"F\",\"F\",\"F\",\"F\",\"F\",\"F\",\"M\",\"M\",\"M\",\"F\",\"F\",\"M\",\"M\",\"F\",\"M\",\"M\",\"F\",\"F\",\"F\",\"F\",\"F\",\"F\",\"F\",\"F\",\"M\",\"M\",\"M\",\"F\",\"F\",\"F\",\"M\",\"M\",\"M\",\"F\",\"F\",\"M\",\"M\",\"M\",\"M\",\"F\",\"F\",\"M\",\"M\",\"M\",\"M\",\"F\",\"M\",\"M\",\"M\",\"F\",\"M\",\"F\",\"F\",\"F\",\"M\",\"M\",\"M\",\"F\",\"F\",\"F\",\"M\",\"F\",\"M\",\"M\",\"M\",\"M\",\"F\",\"M\",\"M\",\"M\",\"M\",\"M\",\"F\",\"F\",\"M\",\"F\",\"M\",\"M\",\"M\",\"M\",\"F\",\"F\",\"F\",\"F\",\"F\",\"F\",\"F\",\"F\",\"F\",\"M\",\"M\",\"M\",\"F\",\"M\",\"M\",\"M\",\"M\",\"M\",\"M\",\"F\",\"F\",\"F\",\"F\",\"F\",\"F\",\"M\",\"M\",\"F\",\"F\",\"F\",\"M\",\"M\",\"M\",\"M\",\"F\",\"F\",\"F\",\"F\",\"F\",\"M\",\"M\",\"M\",\"F\",\"M\",\"M\",\"F\",\"F\",\"F\",\"M\",\"M\",\"M\",\"F\",\"F\",\"M\",\"F\",\"F\",\"F\",\"F\",\"M\",\"M\",\"M\",\"M\",\"M\",\"F\",\"F\",\"F\",\"M\",\"M\",\"M\",\"M\",\"M\",\"F\",\"M\",\"M\",\"F\",\"F\",\"F\",\"F\",\"M\",\"M\",\"M\",\"F\",\"F\",\"F\",\"F\",\"M\",\"M\",\"M\",\"M\",\"F\",\"F\",\"F\",\"F\",\"F\",\"F\",\"F\",\"M\",\"M\",\"M\",\"M\",\"F\",\"F\",\"F\",\"F\",\"F\",\"M\",\"M\",\"M\",\"M\",\"M\",\"F\",\"F\",\"F\",\"M\",\"M\",\"F\",\"F\",\"F\",\"M\",\"M\",\"F\",\"F\",\"F\",\"F\",\"M\",\"M\",\"M\",\"F\",\"F\",\"F\",\"F\",\"M\",\"M\",\"F\",\"M\",\"M\",\"M\",\"M\",\"M\",\"F\",\"F\",\"F\",\"F\",\"M\",\"M\",\"M\",\"M\",\"M\",\"M\",\"F\",\"M\",\"M\",\"M\",\"F\",\"M\",\"M\",\"F\",\"F\",\"F\",\"M\",\"M\",\"M\",\"M\",\"M\",\"M\",\"F\",\"F\",\"F\",\"M\",\"F\",\"F\",\"F\",\"M\",\"M\",\"M\",\"M\",\"M\",\"M\",\"F\",\"F\",\"F\",\"M\",\"M\",\"M\",\"F\",\"F\",\"F\",\"F\",\"F\",\"M\",\"M\",\"M\",\"F\",\"F\",\"M\",\"M\",\"F\",\"F\",\"M\",\"M\",\"F\",\"F\",\"M\",\"M\",\"F\",\"F\",\"M\",\"M\",\"M\",\"M\",\"M\",\"F\",\"F\",\"F\",\"M\",\"M\",\"M\",\"M\",\"F\",\"F\",\"F\",\"M\",\"M\",\"F\",\"M\",\"M\",\"M\",\"M\",\"F\",\"F\",\"F\",\"F\",\"M\",\"M\",\"F\",\"M\",\"M\",\"F\",\"F\",\"F\",\"M\",\"M\",\"M\",\"F\",\"F\",\"F\",\"F\",\"F\",\"F\",\"F\",\"F\",\"M\",\"M\",\"M\",\"M\",\"F\",\"F\",\"F\",\"F\",\"M\",\"M\",\"M\",\"M\",\"M\",\"M\",\"M\",\"M\",\"M\",\"M\",\"M\",\"M\",\"F\",\"F\",\"F\",\"M\",\"M\",\"M\",\"M\",\"F\",\"M\",\"M\",\"F\",\"F\",\"M\",\"F\",\"F\",\"F\",\"F\",\"F\",\"M\",\"M\",\"M\",\"M\",\"F\",\"F\",\"F\",\"M\",\"M\",\"M\",\"M\",\"F\",\"F\",\"F\",\"F\",\"F\",\"M\",\"M\",\"M\",\"F\",\"F\",\"F\",\"F\",\"M\",\"M\",\"M\",\"F\",\"F\",\"F\",\"F\",\"M\",\"M\",\"F\",\"F\",\"M\",\"F\",\"F\",\"M\",\"M\",\"M\",\"M\",\"M\",\"F\",\"F\",\"M\",\"M\",\"M\",\"F\",\"F\",\"F\",\"F\",\"M\",\"F\",\"F\",\"F\",\"M\",\"M\",\"M\",\"M\",\"M\",\"M\",\"M\",\"F\",\"M\",\"M\",\"M\",\"M\",\"F\",\"F\",\"F\",\"F\",\"M\",\"M\",\"F\",\"F\",\"M\",\"M\",\"M\",\"F\",\"F\",\"M\",\"M\",\"M\",\"M\",\"M\",\"M\",\"F\",\"F\",\"F\",\"M\",\"F\",\"F\",\"M\",\"M\",\"F\",\"F\",\"M\",\"M\",\"F\",\"M\",\"M\",\"F\",\"M\",\"M\",\"M\",\"M\",\"M\",\"M\",\"M\",\"M\",\"M\",\"F\",\"M\",\"M\",\"M\",\"F\",\"M\",\"M\",\"M\",\"M\",\"F\",\"F\",\"F\",\"M\",\"M\",\"F\",\"F\",\"M\",\"M\",\"M\",\"M\",\"F\",\"F\",\"F\",\"F\",\"M\",\"M\",\"M\",\"M\",\"F\",\"F\",\"F\",\"F\",\"F\",\"F\",\"M\",\"M\",\"F\",\"F\",\"M\",\"M\",\"M\",\"M\",\"F\",\"F\",\"M\",\"M\",\"M\",\"F\",\"F\",\"F\",\"F\",\"F\",\"F\",\"F\",\"M\",\"M\",\"M\",\"M\",\"M\",\"F\",\"F\",\"F\",\"M\",\"M\",\"M\",\"F\",\"M\",\"M\",\"M\",\"F\",\"F\",\"M\",\"M\",\"M\",\"M\",\"M\",\"F\",\"F\",\"F\",\"M\",\"M\",\"M\",\"F\",\"F\",\"F\",\"M\",\"M\",\"M\",\"M\",\"M\",\"M\",\"F\",\"M\",\"M\",\"F\",\"M\",\"M\",\"M\",\"M\",\"F\",\"F\",\"M\",\"M\",\"F\",\"F\",\"F\",\"F\",\"F\",\"F\",\"M\",\"M\",\"M\",\"F\",\"M\",\"M\",\"M\",\"M\",\"M\",\"M\",\"M\",\"F\",\"F\",\"F\",\"F\",\"M\",\"M\",\"M\",\"F\",\"F\",\"M\",\"M\",\"M\",\"F\",\"F\",\"F\",\"F\",\"M\",\"M\",\"F\",\"F\",\"F\",\"M\",\"M\",\"F\",\"F\",\"M\",\"F\",\"F\",\"M\",\"M\",\"F\",\"F\",\"F\",\"F\",\"F\",\"F\",\"F\",\"F\",\"F\",\"M\",\"M\",\"M\",\"M\",\"M\",\"M\",\"M\",\"M\",\"M\",\"M\",\"M\",\"F\",\"M\",\"M\",\"F\",\"M\",\"M\",\"M\",\"M\",\"F\",\"M\",\"M\",\"M\",\"M\",\"M\",\"M\",\"F\",\"F\",\"F\",\"M\",\"M\",\"M\",\"F\",\"F\",\"F\",\"F\",\"F\",\"F\",\"M\",\"M\",\"F\",\"F\",\"F\",\"M\",\"M\",\"F\",\"F\",\"F\",\"F\",\"M\",\"M\",\"M\",\"M\",\"F\",\"F\",\"F\",\"F\",\"M\",\"M\",\"M\",\"F\",\"F\",\"M\",\"F\",\"F\",\"M\",\"M\",\"M\",\"F\",\"F\",\"F\",\"M\",\"M\",\"F\",\"F\",\"F\",\"F\",\"F\",\"M\",\"M\",\"M\",\"M\",\"F\",\"M\",\"M\",\"M\",\"M\",\"M\",\"M\",\"M\",\"M\",\"F\",\"F\",\"F\",\"F\",\"F\",\"F\",\"F\",\"F\",\"M\",\"M\",\"M\",\"F\",\"F\",\"M\",\"F\",\"F\",\"F\",\"M\",\"M\",\"M\",\"F\",\"F\",\"F\",\"F\",\"F\",\"F\",\"M\",\"F\",\"M\",\"M\",\"M\",\"M\",\"F\",\"F\",\"M\",\"M\",\"F\",\"F\",\"F\",\"F\",\"M\",\"F\",\"M\",\"M\",\"F\",\"M\",\"M\",\"M\",\"F\",\"M\",\"M\",\"M\",\"M\",\"F\",\"M\",\"M\",\"F\",\"F\",\"F\",\"F\",\"F\",\"M\",\"M\",\"F\",\"F\",\"F\",\"F\",\"F\",\"M\",\"M\",\"F\",\"M\",\"F\",\"F\",\"M\",\"F\",\"M\",\"M\",\"M\",\"M\",\"M\",\"F\",\"F\",\"F\"],\"Height\":{\"__ndarray__\":\"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\",\"dtype\":\"float64\",\"shape\":[898]},\"Kids\":[4,4,4,4,4,4,4,4,2,2,5,5,5,5,5,6,6,6,6,6,6,1,6,6,6,6,6,6,3,3,3,1,1,8,8,8,8,8,8,8,8,1,2,2,3,3,3,9,9,9,9,9,9,9,9,9,6,6,6,6,6,6,3,3,3,1,8,8,8,8,8,8,8,8,3,3,3,3,3,3,7,7,7,7,7,7,7,1,2,2,5,5,5,5,5,3,3,3,6,6,6,6,6,6,3,3,3,1,6,6,6,6,6,6,5,5,5,5,5,5,5,5,5,5,1,5,5,5,5,5,4,4,4,4,4,4,4,4,6,6,6,6,6,6,2,2,5,5,5,5,5,1,6,6,6,6,6,6,2,2,2,2,3,3,3,8,8,8,8,8,8,8,8,4,4,4,4,3,3,3,7,7,7,7,7,7,7,2,2,5,5,5,5,5,9,9,9,9,9,9,9,9,9,4,4,4,4,5,5,5,5,5,5,5,5,5,5,5,5,5,5,5,7,7,7,7,7,7,7,1,2,2,4,4,4,4,6,6,6,6,6,6,1,5,5,5,5,5,1,11,11,11,11,11,11,11,11,11,11,11,4,4,4,4,5,5,5,5,5,8,8,8,8,8,8,8,8,5,5,5,5,5,6,6,6,6,6,6,7,7,7,7,7,7,7,3,3,3,2,2,7,7,7,7,7,7,7,7,7,7,7,7,7,7,4,4,4,4,5,5,5,5,5,8,8,8,8,8,8,8,8,1,4,4,4,4,9,9,9,9,9,9,9,9,9,8,8,8,8,8,8,8,8,5,5,5,5,5,4,4,4,4,4,4,4,4,4,4,4,4,8,8,8,8,8,8,8,8,7,7,7,7,7,7,7,3,3,3,2,2,4,4,4,4,2,2,3,3,3,5,5,5,5,5,10,10,10,10,10,10,10,10,10,10,1,8,8,8,8,8,8,8,8,3,3,3,6,6,6,6,6,6,6,6,6,6,6,6,5,5,5,5,5,4,4,4,4,6,6,6,6,6,6,7,7,7,7,7,7,7,9,9,9,9,9,9,9,9,9,7,7,7,7,7,7,7,7,7,7,7,7,7,7,4,4,4,4,3,3,3,1,6,6,6,6,6,6,7,7,7,7,7,7,7,3,3,3,1,3,3,3,5,5,5,5,5,8,8,8,8,8,8,8,8,4,4,4,4,5,5,5,5,5,9,9,9,9,9,9,9,9,9,3,3,3,4,4,4,4,1,2,2,3,3,3,11,11,11,11,11,11,11,11,11,11,2,2,2,2,7,7,7,7,7,7,7,4,4,4,4,8,8,8,8,8,8,8,8,10,10,10,10,10,10,10,10,10,10,4,4,4,4,5,5,5,5,5,1,10,10,10,10,10,10,10,10,10,10,8,8,8,8,8,8,8,8,4,4,4,4,1,4,4,4,4,8,8,8,8,8,8,8,8,6,6,6,6,6,6,1,1,5,5,5,5,5,1,2,2,1,5,5,5,5,5,1,7,7,7,7,7,7,7,4,4,4,4,1,10,10,10,10,10,10,10,10,10,10,5,5,5,5,5,1,6,6,6,6,6,6,5,5,5,5,5,4,4,4,4,3,3,3,11,11,11,11,11,11,11,11,11,11,11,4,4,4,4,8,8,8,8,8,8,8,8,3,3,3,5,5,5,5,5,1,8,8,8,8,8,8,8,8,9,9,9,9,9,9,9,9,9,5,5,5,5,5,6,6,6,6,6,6,8,8,8,8,8,8,8,8,5,5,5,5,5,1,2,2,6,6,6,6,6,6,7,7,7,7,7,7,7,1,4,4,4,4,1,15,15,15,15,15,15,15,15,15,15,15,15,15,15,15,4,4,4,4,1,4,4,4,4,9,9,9,9,9,9,9,9,9,2,2,6,6,6,6,6,6,6,6,6,6,6,6,2,2,3,3,3,4,4,4,4,5,5,5,5,5,7,7,7,7,7,7,7,7,7,7,7,7,7,7,1,2,2,3,3,3,2,2,8,8,8,8,8,8,8,8],\"Mother\":{\"__ndarray__\":\"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\",\"dtype\":\"float64\",\"shape\":[898]},\"index\":[0,1,2,3,4,5,6,7,8,9,10,11,12,13,14,15,16,17,18,19,20,21,22,23,24,25,26,27,28,29,30,31,32,33,34,35,36,37,38,39,40,41,42,43,44,45,46,47,48,49,50,51,52,53,54,55,56,57,58,59,60,61,62,63,64,65,66,67,68,69,70,71,72,73,74,75,76,77,78,79,80,81,82,83,84,85,86,87,88,89,90,91,92,93,94,95,96,97,98,99,100,101,102,103,104,105,106,107,108,109,110,111,112,113,114,115,116,117,118,119,120,121,122,123,124,125,126,127,128,129,130,131,132,133,134,135,136,137,138,139,140,141,142,143,144,145,146,147,148,149,150,151,152,153,154,155,156,157,158,159,160,161,162,163,164,165,166,167,168,169,170,171,172,173,174,175,176,177,178,179,180,181,182,183,184,185,186,187,188,189,190,191,192,193,194,195,196,197,198,199,200,201,202,203,204,205,206,207,208,209,210,211,212,213,214,215,216,217,218,219,220,221,222,223,224,225,226,227,228,229,230,231,232,233,234,235,236,237,238,239,240,241,242,243,244,245,246,247,248,249,250,251,252,253,254,255,256,257,258,259,260,261,262,263,264,265,266,267,268,269,270,271,272,273,274,275,276,277,278,279,280,281,282,283,284,285,286,287,288,289,290,291,292,293,294,295,296,297,298,299,300,301,302,303,304,305,306,307,308,309,310,311,312,313,314,315,316,317,318,319,320,321,322,323,324,325,326,327,328,329,330,331,332,333,334,335,336,337,338,339,340,341,342,343,344,345,346,347,348,349,350,351,352,353,354,355,356,357,358,359,360,361,362,363,364,365,366,367,368,369,370,371,372,373,374,375,376,377,378,379,380,381,382,383,384,385,386,387,388,389,390,391,392,393,394,395,396,397,398,399,400,401,402,403,404,405,406,407,408,409,410,411,412,413,414,415,416,417,418,419,420,421,422,423,424,425,426,427,428,429,430,431,432,433,434,435,436,437,438,439,440,441,442,443,444,445,446,447,448,449,450,451,452,453,454,455,456,457,458,459,460,461,462,463,464,465,466,467,468,469,470,471,472,473,474,475,476,477,478,479,480,481,482,483,484,485,486,487,488,489,490,491,492,493,494,495,496,497,498,499,500,501,502,503,504,505,506,507,508,509,510,511,512,513,514,515,516,517,518,519,520,521,522,523,524,525,526,527,528,529,530,531,532,533,534,535,536,537,538,539,540,541,542,543,544,545,546,547,548,549,550,551,552,553,554,555,556,557,558,559,560,561,562,563,564,565,566,567,568,569,570,571,572,573,574,575,576,577,578,579,580,581,582,583,584,585,586,587,588,589,590,591,592,593,594,595,596,597,598,599,600,601,602,603,604,605,606,607,608,609,610,611,612,613,614,615,616,617,618,619,620,621,622,623,624,625,626,627,628,629,630,631,632,633,634,635,636,637,638,639,640,641,642,643,644,645,646,647,648,649,650,651,652,653,654,655,656,657,658,659,660,661,662,663,664,665,666,667,668,669,670,671,672,673,674,675,676,677,678,679,680,681,682,683,684,685,686,687,688,689,690,691,692,693,694,695,696,697,698,699,700,701,702,703,704,705,706,707,708,709,710,711,712,713,714,715,716,717,718,719,720,721,722,723,724,725,726,727,728,729,730,731,732,733,734,735,736,737,738,739,740,741,742,743,744,745,746,747,748,749,750,751,752,753,754,755,756,757,758,759,760,761,762,763,764,765,766,767,768,769,770,771,772,773,774,775,776,777,778,779,780,781,782,783,784,785,786,787,788,789,790,791,792,793,794,795,796,797,798,799,800,801,802,803,804,805,806,807,808,809,810,811,812,813,814,815,816,817,818,819,820,821,822,823,824,825,826,827,828,829,830,831,832,833,834,835,836,837,838,839,840,841,842,843,844,845,846,847,848,849,850,851,852,853,854,855,856,857,858,859,860,861,862,863,864,865,866,867,868,869,870,871,872,873,874,875,876,877,878,879,880,881,882,883,884,885,886,887,888,889,890,891,892,893,894,895,896,897]},\"selected\":{\"id\":\"7df46b4e-577c-4a87-9c94-374d3dc6b1ff\",\"type\":\"Selection\"},\"selection_policy\":{\"id\":\"bf01b0c8-e464-4988-8e34-5c5cc1f1c68f\",\"type\":\"UnionRenderers\"}},\"id\":\"edefe1bb-f9a3-4511-8740-7c39ba71a4d4\",\"type\":\"ColumnDataSource\"},{\"attributes\":{\"active_drag\":\"auto\",\"active_inspect\":\"auto\",\"active_scroll\":\"auto\",\"active_tap\":\"auto\",\"tools\":[{\"id\":\"7151e21e-98fd-4040-9988-2a42683555ab\",\"type\":\"HoverTool\"},{\"id\":\"84e9d144-c4b3-4919-a190-3a29735eda21\",\"type\":\"CrosshairTool\"},{\"id\":\"37d3ab22-7b84-4e08-a966-64fd40ffbc36\",\"type\":\"BoxSelectTool\"},{\"id\":\"8178fe97-c48b-4890-bdc7-1d265e6b74e6\",\"type\":\"LassoSelectTool\"},{\"id\":\"ab5fc614-c353-4900-9fcc-84d45f2b4b11\",\"type\":\"PanTool\"},{\"id\":\"8fb167cd-769d-4304-99a5-cb0df8af4458\",\"type\":\"BoxZoomTool\"}]},\"id\":\"bd071197-b252-47e8-98a1-632d28f48e13\",\"type\":\"Toolbar\"},{\"attributes\":{\"callback\":null},\"id\":\"94181a22-e1de-4bd6-8653-3f7d3b54670a\",\"type\":\"DataRange1d\"},{\"attributes\":{\"data_source\":{\"id\":\"9b2913df-303f-4358-b74d-d5451df7c58a\",\"type\":\"ColumnDataSource\"},\"glyph\":{\"id\":\"f52cc60f-dc8f-426c-9441-d0d691e4a2e7\",\"type\":\"Circle\"},\"hover_glyph\":null,\"muted_glyph\":null,\"nonselection_glyph\":{\"id\":\"f9422275-bada-43a2-b7a5-5c4535795eab\",\"type\":\"Circle\"},\"selection_glyph\":null,\"view\":{\"id\":\"5b39328b-e98e-461f-bc38-a98a64758812\",\"type\":\"CDSView\"}},\"id\":\"4460423c-1051-4408-a392-36330caf6c9b\",\"type\":\"GlyphRenderer\"},{\"attributes\":{},\"id\":\"77e88b90-1668-4dc0-8f5a-19aa0bba9483\",\"type\":\"UnionRenderers\"},{\"attributes\":{},\"id\":\"2c769a75-1001-413e-9074-c616839bcf3a\",\"type\":\"LinearScale\"},{\"attributes\":{\"callback\":null},\"id\":\"dce9f0c8-421b-4c98-99b0-fefbcd9a067c\",\"type\":\"DataRange1d\"},{\"attributes\":{},\"id\":\"d9d9e403-18ae-487f-b18b-0ae2a5667463\",\"type\":\"LinearScale\"},{\"attributes\":{},\"id\":\"05b0a1d2-8ad3-4e57-b688-3dca9b2202eb\",\"type\":\"BasicTickFormatter\"},{\"attributes\":{\"bottom_units\":\"screen\",\"fill_alpha\":{\"value\":0.5},\"fill_color\":{\"value\":\"lightgrey\"},\"left_units\":\"screen\",\"level\":\"overlay\",\"line_alpha\":{\"value\":1.0},\"line_color\":{\"value\":\"black\"},\"line_dash\":[4,4],\"line_width\":{\"value\":2},\"plot\":null,\"render_mode\":\"css\",\"right_units\":\"screen\",\"top_units\":\"screen\"},\"id\":\"2090d78e-1c79-4f3a-8ce8-b79185c7e61a\",\"type\":\"BoxAnnotation\"},{\"attributes\":{\"axis_label\":\"Father\",\"formatter\":{\"id\":\"e0bad6d5-0f71-46ae-a4ad-14f9c96f833b\",\"type\":\"BasicTickFormatter\"},\"plot\":{\"id\":\"f3878e37-2b13-4567-86e0-5103207982a3\",\"subtype\":\"Figure\",\"type\":\"Plot\"},\"ticker\":{\"id\":\"0ed5f511-f8fe-4d8f-a0ca-edcf543ef0a7\",\"type\":\"BasicTicker\"}},\"id\":\"ff98dabc-19a3-4b47-b9a5-5287d87cce5b\",\"type\":\"LinearAxis\"},{\"attributes\":{},\"id\":\"0ed5f511-f8fe-4d8f-a0ca-edcf543ef0a7\",\"type\":\"BasicTicker\"},{\"attributes\":{\"children\":[{\"id\":\"f3878e37-2b13-4567-86e0-5103207982a3\",\"subtype\":\"Figure\",\"type\":\"Plot\"},{\"id\":\"d3174f20-e70b-4780-ae79-f44135850153\",\"subtype\":\"Figure\",\"type\":\"Plot\"}]},\"id\":\"ebd99583-9f28-4edc-b607-e8ac16912982\",\"type\":\"Row\"},{\"attributes\":{\"plot\":{\"id\":\"f3878e37-2b13-4567-86e0-5103207982a3\",\"subtype\":\"Figure\",\"type\":\"Plot\"},\"ticker\":{\"id\":\"0ed5f511-f8fe-4d8f-a0ca-edcf543ef0a7\",\"type\":\"BasicTicker\"}},\"id\":\"96990459-023d-4450-9ed2-95d950f050f7\",\"type\":\"Grid\"},{\"attributes\":{\"fill_color\":{\"value\":\"red\"},\"line_color\":{\"value\":\"red\"},\"size\":{\"units\":\"screen\",\"value\":5},\"x\":{\"field\":\"x\"},\"y\":{\"field\":\"y\"}},\"id\":\"f52cc60f-dc8f-426c-9441-d0d691e4a2e7\",\"type\":\"Circle\"},{\"attributes\":{\"axis_label\":\"Child\",\"formatter\":{\"id\":\"32c1ed79-0510-4bfd-beae-cd17ea1ed236\",\"type\":\"BasicTickFormatter\"},\"plot\":{\"id\":\"f3878e37-2b13-4567-86e0-5103207982a3\",\"subtype\":\"Figure\",\"type\":\"Plot\"},\"ticker\":{\"id\":\"dd2c6b91-b502-4724-acc9-f89158c921f4\",\"type\":\"BasicTicker\"}},\"id\":\"5985a9dc-0825-4759-b744-b7b07e4bcfdf\",\"type\":\"LinearAxis\"},{\"attributes\":{},\"id\":\"dd2c6b91-b502-4724-acc9-f89158c921f4\",\"type\":\"BasicTicker\"},{\"attributes\":{\"callback\":null,\"data\":{\"x\":[-1.0],\"y\":[9410.13272960428]},\"selected\":{\"id\":\"9359e3dc-e8f6-47a2-89a6-f1af131b3448\",\"type\":\"Selection\"},\"selection_policy\":{\"id\":\"77e88b90-1668-4dc0-8f5a-19aa0bba9483\",\"type\":\"UnionRenderers\"}},\"id\":\"9b2913df-303f-4358-b74d-d5451df7c58a\",\"type\":\"ColumnDataSource\"},{\"attributes\":{\"dimension\":1,\"plot\":{\"id\":\"f3878e37-2b13-4567-86e0-5103207982a3\",\"subtype\":\"Figure\",\"type\":\"Plot\"},\"ticker\":{\"id\":\"dd2c6b91-b502-4724-acc9-f89158c921f4\",\"type\":\"BasicTicker\"}},\"id\":\"ad5024e1-fd39-465f-9768-79b13355f852\",\"type\":\"Grid\"},{\"attributes\":{\"below\":[{\"id\":\"4bc9e471-0174-4bd3-a424-238aa7b0b1ca\",\"type\":\"LinearAxis\"}],\"left\":[{\"id\":\"8b37cc44-6cc1-4d63-8d20-5d38f173e7d4\",\"type\":\"LinearAxis\"}],\"renderers\":[{\"id\":\"4bc9e471-0174-4bd3-a424-238aa7b0b1ca\",\"type\":\"LinearAxis\"},{\"id\":\"418ecf40-b177-4eff-b8bd-ee467859c048\",\"type\":\"Grid\"},{\"id\":\"8b37cc44-6cc1-4d63-8d20-5d38f173e7d4\",\"type\":\"LinearAxis\"},{\"id\":\"e02c61d9-df07-4d3c-8f7f-e42542c744de\",\"type\":\"Grid\"},{\"id\":\"83f7f94a-0eb3-4658-aa44-8e950266dee8\",\"type\":\"BoxAnnotation\"},{\"id\":\"0e7fd995-dfdb-473c-a45d-6bf5adbcc22c\",\"type\":\"PolyAnnotation\"},{\"id\":\"cffecc97-8805-4d86-b098-a322f7d0b5e8\",\"type\":\"BoxAnnotation\"},{\"id\":\"bb0318e3-ced5-43f7-b966-980502c5d973\",\"type\":\"GlyphRenderer\"},{\"id\":\"4460423c-1051-4408-a392-36330caf6c9b\",\"type\":\"GlyphRenderer\"}],\"title\":{\"id\":\"c489b35e-fcb4-41bb-93ce-5e62f1ac40e8\",\"type\":\"Title\"},\"toolbar\":{\"id\":\"8ff3f0ce-0e9a-4e0a-a0b7-beec4e082c8d\",\"type\":\"Toolbar\"},\"x_range\":{\"id\":\"fdb834d1-c155-49ad-9c18-c2dd03d64a41\",\"type\":\"DataRange1d\"},\"x_scale\":{\"id\":\"73158d73-4a47-4dbd-9e9d-d0b16bb38d2d\",\"type\":\"LinearScale\"},\"y_range\":{\"id\":\"75edfd30-9398-4c72-9f5e-7256736f1fc8\",\"type\":\"DataRange1d\"},\"y_scale\":{\"id\":\"0af08966-3b6b-4bb2-948d-f91a751bfac6\",\"type\":\"LinearScale\"}},\"id\":\"d3174f20-e70b-4780-ae79-f44135850153\",\"subtype\":\"Figure\",\"type\":\"Plot\"},{\"attributes\":{\"callback\":null,\"overlay\":{\"id\":\"2090d78e-1c79-4f3a-8ce8-b79185c7e61a\",\"type\":\"BoxAnnotation\"}},\"id\":\"37d3ab22-7b84-4e08-a966-64fd40ffbc36\",\"type\":\"BoxSelectTool\"},{\"attributes\":{},\"id\":\"84e9d144-c4b3-4919-a190-3a29735eda21\",\"type\":\"CrosshairTool\"},{\"attributes\":{\"callback\":null,\"data\":{\"x\":{\"__ndarray__\":\"AAAAAAAA8L9ulC+cThjvv9soXzidMO6/Sb2O1OtI7b+3Ub5wOmHsvyTm7QyJeeu/knodqdeR6r8AD01FJqrpv22jfOF0wui/2zesfcPa579IzNsZEvPmv7ZgC7ZgC+a/JPU6Uq8j5b+SiWru/Tvkv/8dmopMVOO/bbLJJpts4r/aRvnC6YThv0jbKF84neC/bN+w9g1r379GCBAvq5vdvyIxb2dIzNu//lnOn+X82b/Ygi3Ygi3Yv7SrjBAgXta/kNTrSL2O1L9q/UqBWr/Sv0Ymqrn379C/RJ4S5ClBzr/479BUZKLKv7BBj8WeA8e/aJNNNtlkw784yhdOJ4y/v6htlC+cTri/GBERERERsb8AaRvlC6ejv4C/UqDWr4S/gBLkKUGekj9gwvjRNsqnP9C9f4emIrM/YBoDpjFguj94O0Ni3s7AP8DphPGjbcQ/CJjGgGkMyD9QRggQL6vLP6D0SZ/0Sc8/dNFFF1100T+YqObev0PTP7x/h6YiE9U/4FYoboXi1j8ELsk16LHYPywFav1Kgdo/UNwKxa1Q3D90s6uMECDeP5iKTFRz798/3rD2DWvf4D9wHMdxHMfhPwSIl9XNruI/lvNnOX+W4z8oXzidMH7kP7rKCAHiZeU/TDbZZJNN5j/eoanIRDXnP3INeiz2HOg/BHlKkKcE6T+W5Br0WOzpPyhQ61cK1Oo/uru7u7u76z9OJ4wfbaPsP+CSXIMei+0/cv4s589y7j8Eav1KgVrvP8zqZlcZIfA/lCBPCfKU8D9eVje7ygjxPyaMH22jfPE/8MEHH3zw8T+69+/QVGTyP4It2IIt2PI/TGPANAZM8z8Umajm3r/zP97OkJi3M/Q/pgR5SpCn9D9wOmH8aBv1PzpwSa5Bj/U/AqYxYBoD9j/M2xkS83b2P5QRAsTL6vY/XkfqdaRe9z8ofdInfdL3P/CyutlVRvg/uuiiiy66+D+CHos9By75P0xUc+/fofk/FIpbobgV+j/ev0NTkYn6P6j1KwVq/fo/cCsUt0Jx+z86YfxoG+X7PwKX5Br0WPw/zczMzMzM/D8=\",\"dtype\":\"float64\",\"shape\":[100]},\"y\":[9410.13272960428,9034.07530368887,8665.695947089871,8304.994659807286,7951.971441841113,7606.626293191351,7268.959213858003,6938.970203841067,6616.659263140541,6302.026391756428,5995.071589688728,5695.79485693744,5404.196193502565,5120.275599384102,4844.033074582049,4575.468619096411,4314.582232927182,4061.373916074369,3815.843668537966,3577.991490317975,3347.817381414397,3125.3213418272317,2910.5033715564773,2703.3634706021367,2503.9016389642065,2312.117876642689,2128.0121836375843,1951.5845599488919,1782.8350055766102,1621.7635205207423,1468.370104781286,1322.6547583582417,1184.61748125161,1054.2582734613904,931.5771349875826,816.5740658301875,709.2490659892043,609.6021354646335,517.6332742564742,433.3424823647278,356.7297597893935,287.7951065304714,226.53852258796152,172.96000796186374,127.05956265217779,88.83718665890447,58.29287998204329,35.42664262159428,20.238474577557454,12.728375849932785,12.896346438720329,20.742386343920074,36.266495565532004,59.46867410355608,90.34892195799233,128.90723912884076,175.14362561610153,229.0580814197746,290.65060653985955,359.9212009763568,436.86986472926606,521.4965977985876,613.801400184322,713.7842718864678,821.4452129050261,936.7842232399962,1059.8013028913788,1190.4964518591742,1328.869670143381,1474.9209577440001,1628.6503146610307,1790.0577408944757,1959.1432364443301,2135.9068013105993,2320.348435493278,2512.4681389923717,2712.265911807877,2919.7417539397916,3134.895665388123,3357.7276461528613,3588.2376962340163,3826.4258156315796,4072.2920043455583,4325.83626237595,4587.058589722749,4855.958986385966,5132.537452365589,5416.793987661629,5708.728592274083,6008.341266202942,6315.63200944822,6630.600822009905,6953.247703888007,7283.572655082515,7621.575675593441,7967.25676542078,8320.615924564525,8681.653153024688,9050.368450801256,9426.761817894247]},\"selected\":{\"id\":\"0d8d63e1-e765-46b9-b021-232f60c1f029\",\"type\":\"Selection\"},\"selection_policy\":{\"id\":\"1591a68f-abdd-4c75-be5a-3b1da8f4a9ba\",\"type\":\"UnionRenderers\"}},\"id\":\"7b9f7f31-495b-41e7-b3b4-e648e20306aa\",\"type\":\"ColumnDataSource\"},{\"attributes\":{\"active_drag\":\"auto\",\"active_inspect\":\"auto\",\"active_scroll\":\"auto\",\"active_tap\":\"auto\",\"tools\":[{\"id\":\"7151e21e-98fd-4040-9988-2a42683555ab\",\"type\":\"HoverTool\"},{\"id\":\"fe0cb60e-1749-42f3-9206-9ad36c4caee2\",\"type\":\"CrosshairTool\"},{\"id\":\"e0f871c8-b75f-49a1-b1a8-4958addfec08\",\"type\":\"BoxSelectTool\"},{\"id\":\"f3b52df1-c549-4855-a80d-7f3861f11330\",\"type\":\"LassoSelectTool\"},{\"id\":\"9b006bbb-f71a-4f88-82b7-23f979258e33\",\"type\":\"PanTool\"},{\"id\":\"6bf24062-ba8d-44a3-a017-5d8a7799cc93\",\"type\":\"BoxZoomTool\"}]},\"id\":\"8ff3f0ce-0e9a-4e0a-a0b7-beec4e082c8d\",\"type\":\"Toolbar\"},{\"attributes\":{},\"id\":\"0d8d63e1-e765-46b9-b021-232f60c1f029\",\"type\":\"Selection\"},{\"attributes\":{\"plot\":null,\"text\":\"\"},\"id\":\"da192a5b-e3c2-415f-8cce-0eb894e143c4\",\"type\":\"Title\"},{\"attributes\":{\"callback\":null},\"id\":\"fdb834d1-c155-49ad-9c18-c2dd03d64a41\",\"type\":\"DataRange1d\"},{\"attributes\":{\"fill_color\":{\"field\":\"Gender\",\"transform\":{\"id\":\"66e69507-6dde-4a9f-a0d5-54e9aa407965\",\"type\":\"CategoricalColorMapper\"}},\"line_color\":{\"field\":\"Gender\",\"transform\":{\"id\":\"66e69507-6dde-4a9f-a0d5-54e9aa407965\",\"type\":\"CategoricalColorMapper\"}},\"x\":{\"field\":\"Father\"},\"y\":{\"field\":\"Height\"}},\"id\":\"38870b48-f7dd-4711-8e91-7f037703b53e\",\"type\":\"Circle\"},{\"attributes\":{\"callback\":null,\"overlay\":{\"id\":\"9aa9a9af-84a4-4c1c-a4de-7c6dc2dbec65\",\"type\":\"PolyAnnotation\"}},\"id\":\"8178fe97-c48b-4890-bdc7-1d265e6b74e6\",\"type\":\"LassoSelectTool\"},{\"attributes\":{},\"id\":\"ab5fc614-c353-4900-9fcc-84d45f2b4b11\",\"type\":\"PanTool\"},{\"attributes\":{\"overlay\":{\"id\":\"325a1875-2c76-4ec0-b37d-b65ebad6e646\",\"type\":\"BoxAnnotation\"}},\"id\":\"8fb167cd-769d-4304-99a5-cb0df8af4458\",\"type\":\"BoxZoomTool\"},{\"attributes\":{},\"id\":\"b4491f35-2caa-472f-9226-69c365e44bd3\",\"type\":\"BasicTickFormatter\"},{\"attributes\":{\"source\":{\"id\":\"edefe1bb-f9a3-4511-8740-7c39ba71a4d4\",\"type\":\"ColumnDataSource\"}},\"id\":\"7479deed-35b3-437a-a31e-9d2f225fef4b\",\"type\":\"CDSView\"},{\"attributes\":{\"plot\":null,\"text\":\"\"},\"id\":\"c489b35e-fcb4-41bb-93ce-5e62f1ac40e8\",\"type\":\"Title\"},{\"attributes\":{\"fill_alpha\":{\"value\":0.1},\"fill_color\":{\"value\":\"#1f77b4\"},\"line_alpha\":{\"value\":0.1},\"line_color\":{\"value\":\"#1f77b4\"},\"x\":{\"field\":\"Father\"},\"y\":{\"field\":\"Height\"}},\"id\":\"3eeffb68-c0d5-46e3-8285-e13be398b424\",\"type\":\"Circle\"},{\"attributes\":{\"fill_alpha\":{\"value\":0.5},\"fill_color\":{\"value\":\"lightgrey\"},\"level\":\"overlay\",\"line_alpha\":{\"value\":1.0},\"line_color\":{\"value\":\"black\"},\"line_dash\":[4,4],\"line_width\":{\"value\":2},\"plot\":null,\"xs_units\":\"screen\",\"ys_units\":\"screen\"},\"id\":\"9aa9a9af-84a4-4c1c-a4de-7c6dc2dbec65\",\"type\":\"PolyAnnotation\"},{\"attributes\":{\"bottom_units\":\"screen\",\"fill_alpha\":{\"value\":0.5},\"fill_color\":{\"value\":\"lightgrey\"},\"left_units\":\"screen\",\"level\":\"overlay\",\"line_alpha\":{\"value\":1.0},\"line_color\":{\"value\":\"black\"},\"line_dash\":[4,4],\"line_width\":{\"value\":2},\"plot\":null,\"render_mode\":\"css\",\"right_units\":\"screen\",\"top_units\":\"screen\"},\"id\":\"325a1875-2c76-4ec0-b37d-b65ebad6e646\",\"type\":\"BoxAnnotation\"},{\"attributes\":{\"source\":{\"id\":\"b97b2533-6398-44ea-987e-cc0042f0af9e\",\"type\":\"ColumnDataSource\"}},\"id\":\"3f76e0a1-5f9e-473c-8a86-941d00379f66\",\"type\":\"CDSView\"},{\"attributes\":{\"data_source\":{\"id\":\"edefe1bb-f9a3-4511-8740-7c39ba71a4d4\",\"type\":\"ColumnDataSource\"},\"glyph\":{\"id\":\"38870b48-f7dd-4711-8e91-7f037703b53e\",\"type\":\"Circle\"},\"hover_glyph\":{\"id\":\"660e8cca-dc8a-4ba4-bedc-69e58a534f63\",\"type\":\"Circle\"},\"muted_glyph\":null,\"nonselection_glyph\":{\"id\":\"3eeffb68-c0d5-46e3-8285-e13be398b424\",\"type\":\"Circle\"},\"selection_glyph\":null,\"view\":{\"id\":\"7479deed-35b3-437a-a31e-9d2f225fef4b\",\"type\":\"CDSView\"}},\"id\":\"fc32fc54-a8ce-458d-843c-1766b563499b\",\"type\":\"GlyphRenderer\"},{\"attributes\":{},\"id\":\"e0bad6d5-0f71-46ae-a4ad-14f9c96f833b\",\"type\":\"BasicTickFormatter\"},{\"attributes\":{\"fill_color\":{\"value\":\"red\"},\"line_color\":{\"value\":\"red\"},\"x\":{\"field\":\"Father\"},\"y\":{\"field\":\"Height\"}},\"id\":\"660e8cca-dc8a-4ba4-bedc-69e58a534f63\",\"type\":\"Circle\"},{\"attributes\":{\"line_color\":\"orange\",\"x\":{\"field\":\"x\"},\"y\":{\"field\":\"y\"}},\"id\":\"2844e393-3325-4742-a90e-9388315bbfe4\",\"type\":\"Line\"},{\"attributes\":{},\"id\":\"32c1ed79-0510-4bfd-beae-cd17ea1ed236\",\"type\":\"BasicTickFormatter\"},{\"attributes\":{},\"id\":\"1591a68f-abdd-4c75-be5a-3b1da8f4a9ba\",\"type\":\"UnionRenderers\"},{\"attributes\":{\"callback\":null},\"id\":\"75edfd30-9398-4c72-9f5e-7256736f1fc8\",\"type\":\"DataRange1d\"},{\"attributes\":{},\"id\":\"60bc8c3c-45ec-457b-a615-702725345f4b\",\"type\":\"BasicTicker\"},{\"attributes\":{},\"id\":\"73158d73-4a47-4dbd-9e9d-d0b16bb38d2d\",\"type\":\"LinearScale\"},{\"attributes\":{},\"id\":\"0af08966-3b6b-4bb2-948d-f91a751bfac6\",\"type\":\"LinearScale\"},{\"attributes\":{\"axis_label\":\"Weights (slopes)\",\"formatter\":{\"id\":\"05b0a1d2-8ad3-4e57-b688-3dca9b2202eb\",\"type\":\"BasicTickFormatter\"},\"plot\":{\"id\":\"d3174f20-e70b-4780-ae79-f44135850153\",\"subtype\":\"Figure\",\"type\":\"Plot\"},\"ticker\":{\"id\":\"60bc8c3c-45ec-457b-a615-702725345f4b\",\"type\":\"BasicTicker\"}},\"id\":\"4bc9e471-0174-4bd3-a424-238aa7b0b1ca\",\"type\":\"LinearAxis\"}],\"root_ids\":[\"ebd99583-9f28-4edc-b607-e8ac16912982\"]},\"title\":\"Bokeh Application\",\"version\":\"0.12.16\"}};\n",
       "  var render_items = [{\"docid\":\"4ecdb965-048c-487a-a483-48d46aac90c5\",\"elementid\":\"051d97f8-3d5b-4f2f-903a-7b5a524850a7\",\"modelid\":\"ebd99583-9f28-4edc-b607-e8ac16912982\",\"notebook_comms_target\":\"d5e1c248-3f09-4a0f-a8ad-28d73454f778\"}];\n",
       "  root.Bokeh.embed.embed_items_notebook(docs_json, render_items);\n",
       "\n",
       "  }\n",
       "  if (root.Bokeh !== undefined) {\n",
       "    embed_document(root);\n",
       "  } else {\n",
       "    var attempts = 0;\n",
       "    var timer = setInterval(function(root) {\n",
       "      if (root.Bokeh !== undefined) {\n",
       "        embed_document(root);\n",
       "        clearInterval(timer);\n",
       "      }\n",
       "      attempts++;\n",
       "      if (attempts > 100) {\n",
       "        console.log(\"Bokeh: ERROR: Unable to run BokehJS code because BokehJS library is missing\")\n",
       "        clearInterval(timer);\n",
       "      }\n",
       "    }, 10, root)\n",
       "  }\n",
       "})(window);"
      ],
      "application/vnd.bokehjs_exec.v0+json": ""
     },
     "metadata": {
      "application/vnd.bokehjs_exec.v0+json": {
       "id": "ebd99583-9f28-4edc-b607-e8ac16912982"
      }
     },
     "output_type": "display_data"
    },
    {
     "data": {
      "text/html": [
       "<p><code>&lt;Bokeh Notebook handle for <strong>In[10]</strong>&gt;</code></p>"
      ],
      "text/plain": [
       "<bokeh.io.notebook.CommsHandle at 0x7f28b07830b8>"
      ]
     },
     "execution_count": 10,
     "metadata": {},
     "output_type": "execute_result"
    }
   ],
   "source": [
    "layout = row(plot1, plot2)\n",
    "show(layout, notebook_handle=True)"
   ]
  },
  {
   "cell_type": "code",
   "execution_count": 11,
   "metadata": {},
   "outputs": [
    {
     "data": {
      "application/vnd.jupyter.widget-view+json": {
       "model_id": "4feb1e7937944310a27d3200b31b91a0",
       "version_major": 2,
       "version_minor": 0
      },
      "text/plain": [
       "interactive(children=(FloatSlider(value=-1.0, description='slope', max=1.8, min=-1.0, step=0.02828282828282828…"
      ]
     },
     "metadata": {},
     "output_type": "display_data"
    },
    {
     "data": {
      "text/plain": [
       "<function __main__.update(slope, intercept)>"
      ]
     },
     "execution_count": 11,
     "metadata": {},
     "output_type": "execute_result"
    }
   ],
   "source": [
    "interact(update, slope=FloatSlider(value=-1, min=-1, max=1.8, step=step), intercept=FloatSlider(value=80, min=30, max=80, step=1))"
   ]
  },
  {
   "cell_type": "code",
   "execution_count": 12,
   "metadata": {},
   "outputs": [
    {
     "data": {
      "text/plain": [
       "(69.232850779510017, 66.760690423162586)"
      ]
     },
     "execution_count": 12,
     "metadata": {},
     "output_type": "execute_result"
    }
   ],
   "source": [
    "source.data['Father'].mean(), source.data['Height'].mean()"
   ]
  },
  {
   "cell_type": "code",
   "execution_count": 13,
   "metadata": {},
   "outputs": [
    {
     "data": {
      "text/plain": [
       "(0.39938126589856471, 39.110386837075403)"
      ]
     },
     "execution_count": 13,
     "metadata": {},
     "output_type": "execute_result"
    }
   ],
   "source": [
    "slope,intercept"
   ]
  },
  {
   "cell_type": "code",
   "execution_count": null,
   "metadata": {},
   "outputs": [],
   "source": []
  }
 ],
 "metadata": {
  "anaconda-cloud": {
   "attach-environment": true,
   "environment": "root",
   "summary": "interactive notebook to understand linear regressions",
   "url": "https://anaconda.org/okenfor/towards-mediocrity"
  },
  "kernelspec": {
   "display_name": "Python [conda root]",
   "language": "python",
   "name": "conda-root-py"
  },
  "language_info": {
   "codemirror_mode": {
    "name": "ipython",
    "version": 3
   },
   "file_extension": ".py",
   "mimetype": "text/x-python",
   "name": "python",
   "nbconvert_exporter": "python",
   "pygments_lexer": "ipython3",
   "version": "3.6.5"
  },
  "widgets": {
   "application/vnd.jupyter.widget-state+json": {
    "state": {
     "02e618ef665a4c2c931ff2852ffaf476": {
      "model_module": "@jupyter-widgets/controls",
      "model_module_version": "1.2.0",
      "model_name": "FloatSliderModel",
      "state": {
       "description": "slope",
       "layout": "IPY_MODEL_84e252f806204de1aaa143a964a348f1",
       "max": 1.8,
       "min": -1,
       "step": 0.02828282828282828,
       "style": "IPY_MODEL_aaaa408afe074fc9979bf8c33b236d13",
       "value": 0.86667
      }
     },
     "06cbdd0ab66541ef8284a86bb9566b35": {
      "model_module": "@jupyter-widgets/base",
      "model_module_version": "1.0.0",
      "model_name": "LayoutModel",
      "state": {}
     },
     "2975a6d985d2463b880d8be04d765bb7": {
      "model_module": "@jupyter-widgets/controls",
      "model_module_version": "1.2.0",
      "model_name": "SliderStyleModel",
      "state": {
       "description_width": ""
      }
     },
     "37bdd24b2642469f8af59599f4becca8": {
      "model_module": "@jupyter-widgets/base",
      "model_module_version": "1.0.0",
      "model_name": "LayoutModel",
      "state": {}
     },
     "43b600d8ba814322af394745f521103c": {
      "model_module": "@jupyter-widgets/output",
      "model_module_version": "1.0.0",
      "model_name": "OutputModel",
      "state": {
       "layout": "IPY_MODEL_973a0c5941634ec294fd6b81dd0ff766"
      }
     },
     "4feb1e7937944310a27d3200b31b91a0": {
      "model_module": "@jupyter-widgets/controls",
      "model_module_version": "1.2.0",
      "model_name": "VBoxModel",
      "state": {
       "_dom_classes": [
        "widget-interact"
       ],
       "children": [
        "IPY_MODEL_899ecf11d0a54c729e8b936b4a708c97",
        "IPY_MODEL_66d3dd79dc8a42ebb7c14dad24564aab",
        "IPY_MODEL_43b600d8ba814322af394745f521103c"
       ],
       "layout": "IPY_MODEL_c24268952f9c4fa391ef2f85b3c5fc70"
      }
     },
     "60c3bf6bcc114424bd84a0f4ebbb54e8": {
      "model_module": "@jupyter-widgets/controls",
      "model_module_version": "1.2.0",
      "model_name": "VBoxModel",
      "state": {
       "_dom_classes": [
        "widget-interact"
       ],
       "children": [
        "IPY_MODEL_02e618ef665a4c2c931ff2852ffaf476",
        "IPY_MODEL_848a722bd5f94f44ae490bc776c6c5b7",
        "IPY_MODEL_d55972c198d34137997d00e4bdd7b6ca"
       ],
       "layout": "IPY_MODEL_b25b7d2589a2484db5a1c20f00f9b593"
      }
     },
     "66d3dd79dc8a42ebb7c14dad24564aab": {
      "model_module": "@jupyter-widgets/controls",
      "model_module_version": "1.2.0",
      "model_name": "FloatSliderModel",
      "state": {
       "description": "intercept",
       "layout": "IPY_MODEL_fd4910a58ede412ab7ff14d0e84cd4a2",
       "max": 80,
       "min": 30,
       "style": "IPY_MODEL_d72b0321891441d4b7886447e1e73b76",
       "value": 80
      }
     },
     "6c68401eed484fccb4809f192cd70b0c": {
      "model_module": "@jupyter-widgets/base",
      "model_module_version": "1.0.0",
      "model_name": "LayoutModel",
      "state": {}
     },
     "848a722bd5f94f44ae490bc776c6c5b7": {
      "model_module": "@jupyter-widgets/controls",
      "model_module_version": "1.2.0",
      "model_name": "FloatSliderModel",
      "state": {
       "description": "intercept",
       "layout": "IPY_MODEL_6c68401eed484fccb4809f192cd70b0c",
       "max": 80,
       "min": 30,
       "style": "IPY_MODEL_2975a6d985d2463b880d8be04d765bb7",
       "value": 32
      }
     },
     "84e252f806204de1aaa143a964a348f1": {
      "model_module": "@jupyter-widgets/base",
      "model_module_version": "1.0.0",
      "model_name": "LayoutModel",
      "state": {}
     },
     "899ecf11d0a54c729e8b936b4a708c97": {
      "model_module": "@jupyter-widgets/controls",
      "model_module_version": "1.2.0",
      "model_name": "FloatSliderModel",
      "state": {
       "description": "slope",
       "layout": "IPY_MODEL_37bdd24b2642469f8af59599f4becca8",
       "max": 1.8,
       "min": -1,
       "step": 0.02828282828282828,
       "style": "IPY_MODEL_e8c15b96c8884772a02ca1f1182e1fb1",
       "value": 0.10303
      }
     },
     "973a0c5941634ec294fd6b81dd0ff766": {
      "model_module": "@jupyter-widgets/base",
      "model_module_version": "1.0.0",
      "model_name": "LayoutModel",
      "state": {}
     },
     "aaaa408afe074fc9979bf8c33b236d13": {
      "model_module": "@jupyter-widgets/controls",
      "model_module_version": "1.2.0",
      "model_name": "SliderStyleModel",
      "state": {
       "description_width": ""
      }
     },
     "b25b7d2589a2484db5a1c20f00f9b593": {
      "model_module": "@jupyter-widgets/base",
      "model_module_version": "1.0.0",
      "model_name": "LayoutModel",
      "state": {}
     },
     "c24268952f9c4fa391ef2f85b3c5fc70": {
      "model_module": "@jupyter-widgets/base",
      "model_module_version": "1.0.0",
      "model_name": "LayoutModel",
      "state": {}
     },
     "d55972c198d34137997d00e4bdd7b6ca": {
      "model_module": "@jupyter-widgets/output",
      "model_module_version": "1.0.0",
      "model_name": "OutputModel",
      "state": {
       "layout": "IPY_MODEL_06cbdd0ab66541ef8284a86bb9566b35"
      }
     },
     "d72b0321891441d4b7886447e1e73b76": {
      "model_module": "@jupyter-widgets/controls",
      "model_module_version": "1.2.0",
      "model_name": "SliderStyleModel",
      "state": {
       "description_width": ""
      }
     },
     "e8c15b96c8884772a02ca1f1182e1fb1": {
      "model_module": "@jupyter-widgets/controls",
      "model_module_version": "1.2.0",
      "model_name": "SliderStyleModel",
      "state": {
       "description_width": ""
      }
     },
     "fd4910a58ede412ab7ff14d0e84cd4a2": {
      "model_module": "@jupyter-widgets/base",
      "model_module_version": "1.0.0",
      "model_name": "LayoutModel",
      "state": {}
     }
    },
    "version_major": 2,
    "version_minor": 0
   }
  }
 },
 "nbformat": 4,
 "nbformat_minor": 2
}
